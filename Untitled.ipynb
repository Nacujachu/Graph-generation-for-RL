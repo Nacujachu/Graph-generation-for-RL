{
 "cells": [
  {
   "cell_type": "code",
   "execution_count": 104,
   "metadata": {},
   "outputs": [],
   "source": [
    "import numpy as np\n",
    "import networkx as nx\n",
    "import torch\n",
    "import scipy as sc\n",
    "class MVC_environement():\n",
    "    def __init__(self , nx_graph):\n",
    "        \n",
    "        self.nx_graph = nx_graph\n",
    "        self.num_nodes = len(nx_graph.nodes())\n",
    "        self.num_edegs = len(nx_graph.edges())\n",
    "        self.Xv = np.zeros([1,self.num_nodes])\n",
    "        self.edges = list(nx_graph.edges())\n",
    "        self.covered_edges = 0\n",
    "        self.covered_set = set()\n",
    "        self.adj_list = self.get_adj_list()\n",
    "        \n",
    "    def take_action(self,v):\n",
    "        self.Xv[0,v] = 1\n",
    "        self.covered_set.add(v)\n",
    "        neighbor = self.adj_list[v]\n",
    "        \n",
    "        for u in neighbor:\n",
    "            if u not in self.covered_set:\n",
    "                self.covered_edges += 1\n",
    "        \n",
    "        DONE = False\n",
    "        \n",
    "        if self.covered_edges == self.num_edegs:\n",
    "            DONE= True\n",
    "        \n",
    "        return self.Xv , -1 , DONE \n",
    "        \n",
    "        \n",
    "    def get_adj_list(self):\n",
    "        adj_list = {}\n",
    "        for k , v in dict(self.nx_graph.adjacency()).items():\n",
    "            adj_list[k] = []\n",
    "            for vv in v.keys():\n",
    "                adj_list[k].append(vv)\n",
    "        return adj_list\n",
    "    def get_matrix(self , sparse = True):\n",
    "        if sparse == True:\n",
    "            ret_g = nx.convert_matrix.to_scipy_sparse_matrix(self.nx_graph)\n",
    "            ret_g = ret_g.tocoo()\n",
    "            return ret_g\n",
    "        else:\n",
    "            ret_g = nx.convert_matrix.to_numpy_array(self.nx_graph)\n",
    "            return ret_g\n",
    "    \n",
    "    def get_torch_sparse(self):\n",
    "        sp = self.get_matrix(sparse = True)\n",
    "        index = np.vstack([sp.row , sp.col] ).astype(int)\n",
    "        value = sp.data.astype(float)\n",
    "        sz = sp.shape\n",
    "        i = torch.LongTensor(index)\n",
    "        v = torch.FloatTensor(value)\n",
    "        return torch.sparse.FloatTensor(i, v, torch.Size(sz))"
   ]
  },
  {
   "cell_type": "code",
   "execution_count": null,
   "metadata": {},
   "outputs": [],
   "source": []
  },
  {
   "cell_type": "code",
   "execution_count": 127,
   "metadata": {},
   "outputs": [],
   "source": [
    "g = nx.erdos_renyi_graph(n = 50 , p = 0.01)"
   ]
  },
  {
   "cell_type": "code",
   "execution_count": 128,
   "metadata": {},
   "outputs": [],
   "source": [
    "env = MVC_environement(g)"
   ]
  },
  {
   "cell_type": "code",
   "execution_count": 129,
   "metadata": {},
   "outputs": [],
   "source": [
    "for v in range(50):\n",
    "    Xv , reward , done = env.take_action(v)\n",
    "    if(done):\n",
    "        break"
   ]
  },
  {
   "cell_type": "code",
   "execution_count": null,
   "metadata": {},
   "outputs": [],
   "source": []
  },
  {
   "cell_type": "code",
   "execution_count": null,
   "metadata": {},
   "outputs": [],
   "source": []
  }
 ],
 "metadata": {
  "kernelspec": {
   "display_name": "Python 3",
   "language": "python",
   "name": "python3"
  },
  "language_info": {
   "codemirror_mode": {
    "name": "ipython",
    "version": 3
   },
   "file_extension": ".py",
   "mimetype": "text/x-python",
   "name": "python",
   "nbconvert_exporter": "python",
   "pygments_lexer": "ipython3",
   "version": "3.6.5"
  }
 },
 "nbformat": 4,
 "nbformat_minor": 2
}

{
 "cells": [
  {
   "cell_type": "code",
   "execution_count": 136,
   "metadata": {},
   "outputs": [
    {
     "name": "stdout",
     "output_type": "stream",
     "text": [
      "The autoreload extension is already loaded. To reload it, use:\n",
      "  %reload_ext autoreload\n"
     ]
    }
   ],
   "source": [
    "%load_ext autoreload\n",
    "%autoreload 2\n",
    "import torch\n",
    "from torch_geometric.data import Data\n",
    "from MVC_env import MVC_environement\n",
    "from DQN_network import Agent\n",
    "import networkx as nx\n",
    "from utils import mvc_bb , validation_graph_gen\n",
    "import random\n",
    "import numpy as np\n",
    "import math\n",
    "from tqdm import tqdm_notebook as tqdm\n",
    "from collections import namedtuple\n",
    "from torch_geometric.nn import dense_diff_pool \n",
    "np.random.seed(19960214)\n",
    "random.seed(19960214)"
   ]
  },
  {
   "cell_type": "code",
   "execution_count": 138,
   "metadata": {},
   "outputs": [],
   "source": [
    "g = nx.erdos_renyi_graph(n = 20 , p = 0.15)\n",
    "env = MVC_environement(g)\n",
    "Xv , graph = env.reset_env()\n",
    "graph = torch.unsqueeze(graph , 0)"
   ]
  },
  {
   "cell_type": "code",
   "execution_count": 147,
   "metadata": {},
   "outputs": [],
   "source": [
    "X_new , adj_plum , _ , _ = dense_diff_pool(Xv , graph , graph)\n"
   ]
  },
  {
   "cell_type": "code",
   "execution_count": 153,
   "metadata": {},
   "outputs": [
    {
     "data": {
      "text/plain": [
       "[1]"
      ]
     },
     "execution_count": 153,
     "metadata": {},
     "output_type": "execute_result"
    }
   ],
   "source": []
  },
  {
   "cell_type": "code",
   "execution_count": 172,
   "metadata": {},
   "outputs": [],
   "source": [
    "def training_validation( validation_a , validation_bs , validation_per_epoch = 30 , num_validation = 20  ,\n",
    "                        parameter_list = [[50,'er',0.15]] , device = 'cuda:1' , \n",
    "                        opt_train = -1 , opt_val=[] ):\n",
    "\n",
    "    agent = Agent()\n",
    "    EPS_START = 1.00\n",
    "    EPS_END = 0.05\n",
    "    EPS_DECAY = 10000\n",
    "    steps_done = 0\n",
    "    N_STEP = 2\n",
    "    MAX_EPISODE = validation_per_epoch * num_validation + 1\n",
    "    fitted_q_exp = namedtuple(\"fitted_exp\" , ['graph','Xv','action','reward'])\n",
    "    experience = namedtuple(\"experience\" , ['graph','Xv','action','reward','next_Xv','is_done'])\n",
    "    another_result = [[] for _ in range(len(validation_bs))]\n",
    "    validation_result = []\n",
    "    for e in tqdm(range(MAX_EPISODE)):\n",
    "        \n",
    "        graph_size , type_train , density = random.sample(parameter_list , 1)[0]\n",
    "        \n",
    "        def density_to_edge_ba(n , p):\n",
    "            return math.ceil( p *n  /2)\n",
    "        #p = np.random.uniform(0.05,0.3)\n",
    "        if type_train == 'er':\n",
    "            g = nx.erdos_renyi_graph(n = graph_size , p = density)\n",
    "        elif type_train == 'ba':\n",
    "            ba_m = density_to_edge_ba(graph_size , density)\n",
    "            g = g = nx.barabasi_albert_graph(graph_size , ba_m)\n",
    "        else:\n",
    "            raise 'Not Implemented'\n",
    "            \n",
    "        env = MVC_environement(g)\n",
    "        \n",
    "        Xv , graph = env.reset_env()\n",
    "        Xv = Xv.clone()\n",
    "        graph = torch.unsqueeze(graph,  0)\n",
    "        done = False\n",
    "        non_selected = list(np.arange(env.num_nodes))\n",
    "        selected = []\n",
    "        N = 0\n",
    "        fitted_experience_list = []\n",
    "        reward_list = []\n",
    "        agent.new_epsiode()\n",
    "        while done == False:\n",
    "            eps_threshold = EPS_END + (EPS_START - EPS_END) * \\\n",
    "            math.exp(-1. * steps_done / EPS_DECAY)\n",
    "            if np.random.uniform() > eps_threshold:\n",
    "                val = agent(graph , Xv)[0]\n",
    "                val[selected] = -float('inf')\n",
    "                action = int(torch.argmax(val).item())\n",
    "            else:\n",
    "                action = int(np.random.choice(non_selected))\n",
    "                \n",
    "            Xv_next , reward , done = env.take_action(action)\n",
    "            Xv_next = Xv_next.clone()\n",
    "            fit_ex = fitted_q_exp(graph , Xv , action , reward)\n",
    "            fitted_experience_list.append(fit_ex)\n",
    "            non_selected.remove(action)\n",
    "            selected.append(action)\n",
    "            N += 1 \n",
    "            reward_list.append(reward)\n",
    "            \n",
    "            if N >= N_STEP:\n",
    "                n_reward = sum(reward_list)\n",
    "                n_prev_ex = fitted_experience_list[0]\n",
    "                n_graph = n_prev_ex.graph\n",
    "                n_Xv = n_prev_ex.Xv\n",
    "                n_action = n_prev_ex.action\n",
    "                ex = experience(n_graph , n_Xv , torch.tensor([n_action]) , torch.tensor([n_reward]) , Xv_next , done)\n",
    "                agent.buffer.push(ex)\n",
    "                fitted_experience_list.pop(0)\n",
    "                reward_list.pop(0)\n",
    "                \n",
    "            Xv = Xv_next\n",
    "            steps_done += 1\n",
    "            \n",
    "            agent.train()\n",
    "        if e > 0 and e % 8 == 0:\n",
    "            agent.update_target_network()\n",
    "            \n",
    "        if e > 0 and e % validation_per_epoch == 0:\n",
    "            v = agent.get_val_result( validation_a )\n",
    "            validation_result.append(v / opt_train)\n",
    "            for i , validation_b in enumerate(validation_bs):\n",
    "                v = agent.get_val_result(validation_b )\n",
    "                another_result[i].append(v / opt_val[i])\n",
    "                \n",
    "    return validation_result , another_result  , agent"
   ]
  },
  {
   "cell_type": "code",
   "execution_count": null,
   "metadata": {},
   "outputs": [
    {
     "data": {
      "application/vnd.jupyter.widget-view+json": {
       "model_id": "a34aacaf67974b1fb8aebc47c37033f6",
       "version_major": 2,
       "version_minor": 0
      },
      "text/plain": [
       "HBox(children=(IntProgress(value=0, max=150), HTML(value='')))"
      ]
     },
     "metadata": {},
     "output_type": "display_data"
    },
    {
     "data": {
      "application/vnd.jupyter.widget-view+json": {
       "model_id": "bc2dee15e623414984d9b19d61d4cb77",
       "version_major": 2,
       "version_minor": 0
      },
      "text/plain": [
       "HBox(children=(IntProgress(value=0, max=150), HTML(value='')))"
      ]
     },
     "metadata": {},
     "output_type": "display_data"
    },
    {
     "data": {
      "application/vnd.jupyter.widget-view+json": {
       "model_id": "4e021685f7534c96b363e097c26075db",
       "version_major": 2,
       "version_minor": 0
      },
      "text/plain": [
       "HBox(children=(IntProgress(value=0, max=150), HTML(value='')))"
      ]
     },
     "metadata": {},
     "output_type": "display_data"
    },
    {
     "data": {
      "application/vnd.jupyter.widget-view+json": {
       "model_id": "f3a856daafd74b2ba30aed1df2bba7f1",
       "version_major": 2,
       "version_minor": 0
      },
      "text/plain": [
       "HBox(children=(IntProgress(value=0, max=150), HTML(value='')))"
      ]
     },
     "metadata": {},
     "output_type": "display_data"
    },
    {
     "data": {
      "application/vnd.jupyter.widget-view+json": {
       "model_id": "43d8ef38fc7945a98cfa9215e8623e50",
       "version_major": 2,
       "version_minor": 0
      },
      "text/plain": [
       "HBox(children=(IntProgress(value=0, max=150), HTML(value='')))"
      ]
     },
     "metadata": {},
     "output_type": "display_data"
    },
    {
     "data": {
      "application/vnd.jupyter.widget-view+json": {
       "model_id": "107acef4cc374bf890399e91484912de",
       "version_major": 2,
       "version_minor": 0
      },
      "text/plain": [
       "HBox(children=(IntProgress(value=0, max=150), HTML(value='')))"
      ]
     },
     "metadata": {},
     "output_type": "display_data"
    },
    {
     "data": {
      "application/vnd.jupyter.widget-view+json": {
       "model_id": "8b29b6f33a374c18985f6ca90422b77e",
       "version_major": 2,
       "version_minor": 0
      },
      "text/plain": [
       "HBox(children=(IntProgress(value=0, max=150), HTML(value='')))"
      ]
     },
     "metadata": {},
     "output_type": "display_data"
    },
    {
     "data": {
      "application/vnd.jupyter.widget-view+json": {
       "model_id": "c8b510db55744ae0bcf96c1111edf230",
       "version_major": 2,
       "version_minor": 0
      },
      "text/plain": [
       "HBox(children=(IntProgress(value=0, max=150), HTML(value='')))"
      ]
     },
     "metadata": {},
     "output_type": "display_data"
    },
    {
     "data": {
      "application/vnd.jupyter.widget-view+json": {
       "model_id": "7c0a092ea28a48fa9fbef9191a86f5d2",
       "version_major": 2,
       "version_minor": 0
      },
      "text/plain": [
       "HBox(children=(IntProgress(value=0, max=150), HTML(value='')))"
      ]
     },
     "metadata": {},
     "output_type": "display_data"
    },
    {
     "data": {
      "application/vnd.jupyter.widget-view+json": {
       "model_id": "ef738dd3be754e2a998727d7aa29e331",
       "version_major": 2,
       "version_minor": 0
      },
      "text/plain": [
       "HBox(children=(IntProgress(value=0, max=150), HTML(value='')))"
      ]
     },
     "metadata": {},
     "output_type": "display_data"
    },
    {
     "name": "stdout",
     "output_type": "stream",
     "text": [
      "training  (30, 'er', 0.15)\n"
     ]
    },
    {
     "data": {
      "application/vnd.jupyter.widget-view+json": {
       "model_id": "f14adc94b467476e95c0a5e4d7750b63",
       "version_major": 2,
       "version_minor": 0
      },
      "text/plain": [
       "HBox(children=(IntProgress(value=0, max=7501), HTML(value='')))"
      ]
     },
     "metadata": {},
     "output_type": "display_data"
    }
   ],
   "source": [
    "import os\n",
    "from pathlib import Path\n",
    "import itertools\n",
    "import matplotlib.pyplot as plt\n",
    "graph_size_list = [30]\n",
    "graph_type_list = ['er' , 'ba']\n",
    "density_list = [0.15,0.3,0.5,0.7,0.8]\n",
    "\n",
    "parameter_list = list(itertools.product(graph_size_list , graph_type_list ,density_list))\n",
    "N = len(parameter_list)\n",
    "VALIDATION_GRAPH_NUM = 150\n",
    "performance_dict = {}\n",
    "all_graphs = []\n",
    "opt_results = []\n",
    "for i in range(N):\n",
    "    train_size = parameter_list[i][0]\n",
    "    train_type = parameter_list[i][1]\n",
    "    train_density = parameter_list[i][2]\n",
    "    \n",
    "    train_graphs = validation_graph_gen(n = train_size , p = train_density \n",
    "                                        , num = VALIDATION_GRAPH_NUM , graph_type=train_type)\n",
    "    \n",
    "    all_graphs.append(train_graphs)\n",
    "\n",
    "for i in range(N):\n",
    "    \n",
    "    cur_res = []\n",
    "    \n",
    "    for j in tqdm(range(VALIDATION_GRAPH_NUM)):\n",
    "        cur_g = all_graphs[i][j]\n",
    "        C = mvc_bb(cur_g , len(cur_g.nodes()) , [])\n",
    "        cur_res.append(len(C))\n",
    "    opt_results.append(sum(cur_res)/len(cur_res))\n",
    "for i in range(N):\n",
    "    train_size = parameter_list[i][0]\n",
    "    train_type = parameter_list[i][1]\n",
    "    train_density = parameter_list[i][2]\n",
    "    legend_word = ['{}_{}'.format(train_type,train_density)]\n",
    "    opt_train = opt_results[i]\n",
    "    train_graphs = all_graphs[i][:]\n",
    "    opt_vals = []\n",
    "    validation_anothers = []\n",
    "    print('training ',parameter_list[i])\n",
    "    for j in range(N):\n",
    "        \n",
    "        if i == j:\n",
    "            continue\n",
    "        val_size = parameter_list[j][0]\n",
    "        val_type = parameter_list[j][1]\n",
    "        val_density = parameter_list[j][2]\n",
    "        \n",
    "        validation_anothers.append(all_graphs[j][:])\n",
    "        opt_vals.append(opt_results[j])\n",
    "        legend_word.append('{}_{}'.format(val_type,val_density))\n",
    "    validation_result , another_result  , dqn = training_validation(train_graphs , validation_anothers,\n",
    "                                                                              num_validation=250 , validation_per_epoch=30,\n",
    "                                                                              parameter_list = parameter_list , \n",
    "                                                                                    opt_train=opt_train,\n",
    "                                                                              opt_val = opt_vals, device='cuda:0')\n",
    "    plt.plot(validation_result)\n",
    "    performance_dict[legend_word[0]] = {legend_word[0]:validation_result}\n",
    "    for v , l in zip(another_result , legend_word[1:]):\n",
    "        plt.plot(v)\n",
    "        performance_dict[legend_word[0]][l] = v\n",
    "    plt.legend(legend_word)\n",
    "    plt.show()\n"
   ]
  },
  {
   "cell_type": "code",
   "execution_count": null,
   "metadata": {},
   "outputs": [],
   "source": [
    " "
   ]
  }
 ],
 "metadata": {
  "kernelspec": {
   "display_name": "Python 3",
   "language": "python",
   "name": "python3"
  },
  "language_info": {
   "codemirror_mode": {
    "name": "ipython",
    "version": 3
   },
   "file_extension": ".py",
   "mimetype": "text/x-python",
   "name": "python",
   "nbconvert_exporter": "python",
   "pygments_lexer": "ipython3",
   "version": "3.7.1"
  }
 },
 "nbformat": 4,
 "nbformat_minor": 2
}

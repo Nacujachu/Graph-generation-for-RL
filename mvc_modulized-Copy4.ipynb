{
 "cells": [
  {
   "cell_type": "code",
   "execution_count": 23,
   "metadata": {},
   "outputs": [
    {
     "name": "stdout",
     "output_type": "stream",
     "text": [
      "The autoreload extension is already loaded. To reload it, use:\n",
      "  %reload_ext autoreload\n"
     ]
    }
   ],
   "source": [
    "%load_ext autoreload\n",
    "%autoreload 2\n",
    "from MVC_env import MVC_environement\n",
    "from DQN_network import embedding_network\n",
    "import numpy as np\n",
    "import networkx as nx\n",
    "import math\n",
    "import torch\n",
    "from tqdm import tqdm_notebook as tqdm\n",
    "import pickle\n",
    "from heapdict import heapdict\n",
    "from networkx.algorithms.approximation import min_weighted_vertex_cover\n",
    "import random\n",
    "import itertools\n",
    "import warnings\n",
    "warnings.filterwarnings(\"ignore\")\n",
    "def pickle_save(data,file_name):\n",
    "    with open(file_name,'wb') as f:\n",
    "        pickle.dump(data , f)\n",
    "def pickle_load(file_name):\n",
    "    with open(file_name,'rb') as f:\n",
    "        return pickle.load(f)\n",
    "\n",
    "\n",
    "np.random.seed(19960214)\n",
    "random.seed(19960214)"
   ]
  },
  {
   "cell_type": "code",
   "execution_count": 234,
   "metadata": {},
   "outputs": [],
   "source": [
    "def is_vertex_cover(graph , cover):\n",
    "    cover_edge = 0\n",
    "    total_edge = len(graph.edges())\n",
    "    checked_set = set()\n",
    "    for c in cover:\n",
    "        checked_set.add(c)\n",
    "        for u in list(graph.neighbors(c)):\n",
    "            if u not in checked_set:\n",
    "                cover_edge += 1\n",
    "            \n",
    "    return cover_edge == total_edge\n",
    "\n",
    "def mvc_bb(graph , UB = None , C = None):\n",
    "    \n",
    "    def DegLB():\n",
    "    \n",
    "        degree_list = nx.degree(graph)\n",
    "        hd = heapdict()\n",
    "        for v , d in degree_list:\n",
    "            hd[v] = -d\n",
    "        \n",
    "        num_edge = len(graph.edges())\n",
    "        count_edge = 0\n",
    "        lb = 0\n",
    "        select_nodes = []\n",
    "        while count_edge < num_edge:\n",
    "            cur_v , cur_degree = hd.popitem()\n",
    "            count_edge += -(cur_degree)\n",
    "            select_nodes.append(cur_v)\n",
    "            for u in graph.neighbors(cur_v):\n",
    "                if u in select_nodes:\n",
    "                    continue\n",
    "                hd[u] += 1\n",
    "        cur_v , cur_degree = hd.popitem()\n",
    "        graph_plum = graph.copy()\n",
    "        graph_plum.remove_nodes_from(select_nodes)\n",
    "        E_plum = len(graph_plum.edges())\n",
    "        if cur_degree > 0:\n",
    "            E_plum /= cur_degree\n",
    "            \n",
    "        return math.floor( len(select_nodes) + E_plum )\n",
    "    \n",
    "    if len(graph.edges()) == 0:\n",
    "        #return len(C)\n",
    "        return C\n",
    "    #LB = DegLB()\n",
    "    LB = 0\n",
    "    if len(C) + LB >= UB:\n",
    "        #return UB\n",
    "        return [i for i in range(UB+1)]\n",
    "    \n",
    "    degree_list = nx.degree(graph)\n",
    "    v , d = max(degree_list , key = lambda a : a[1])\n",
    "    \n",
    "    C1 = C[:]\n",
    "    C2 = C[:]\n",
    "    graph_1 = graph.copy()\n",
    "    C1.extend(list(graph.neighbors(v)))\n",
    "    #C1.append(v)\n",
    "    graph_1.remove_nodes_from(C1)\n",
    "    C1= mvc_bb(graph_1 , UB , C1)\n",
    "\n",
    "    C2.append(v)\n",
    "    graph_2 = graph.copy()\n",
    "    graph_2.remove_node(v)\n",
    "    C2 = mvc_bb(graph_2 , min(UB , len(C1)) , C2 )\n",
    "\n",
    "    if len(C1)>len(C2):\n",
    "        return C2\n",
    "    else:\n",
    "        return C1\n"
   ]
  },
  {
   "cell_type": "code",
   "execution_count": 241,
   "metadata": {},
   "outputs": [],
   "source": [
    "opt_results_old = opt_results[:]"
   ]
  },
  {
   "cell_type": "code",
   "execution_count": 239,
   "metadata": {
    "scrolled": true
   },
   "outputs": [
    {
     "data": {
      "application/vnd.jupyter.widget-view+json": {
       "model_id": "60dfcad47aeb4a1eb2ca49fa8e8c00bb",
       "version_major": 2,
       "version_minor": 0
      },
      "text/plain": [
       "HBox(children=(IntProgress(value=0, max=500), HTML(value='')))"
      ]
     },
     "metadata": {},
     "output_type": "display_data"
    },
    {
     "name": "stdout",
     "output_type": "stream",
     "text": [
      "16246 500 32.492\n"
     ]
    },
    {
     "data": {
      "application/vnd.jupyter.widget-view+json": {
       "model_id": "dfa472ddc38d4bb1ba931fd519ae8d57",
       "version_major": 2,
       "version_minor": 0
      },
      "text/plain": [
       "HBox(children=(IntProgress(value=0, max=500), HTML(value='')))"
      ]
     },
     "metadata": {},
     "output_type": "display_data"
    },
    {
     "name": "stdout",
     "output_type": "stream",
     "text": [
      "19292 500 38.584\n"
     ]
    },
    {
     "data": {
      "application/vnd.jupyter.widget-view+json": {
       "model_id": "1dd448cc284d4ce6806d3c32bb95fc62",
       "version_major": 2,
       "version_minor": 0
      },
      "text/plain": [
       "HBox(children=(IntProgress(value=0, max=500), HTML(value='')))"
      ]
     },
     "metadata": {},
     "output_type": "display_data"
    },
    {
     "name": "stdout",
     "output_type": "stream",
     "text": [
      "21273 500 42.546\n"
     ]
    },
    {
     "data": {
      "application/vnd.jupyter.widget-view+json": {
       "model_id": "d8ad9228d0ba4baa9169e1e27f7eaf75",
       "version_major": 2,
       "version_minor": 0
      },
      "text/plain": [
       "HBox(children=(IntProgress(value=0, max=500), HTML(value='')))"
      ]
     },
     "metadata": {},
     "output_type": "display_data"
    },
    {
     "name": "stdout",
     "output_type": "stream",
     "text": [
      "22444 500 44.888\n"
     ]
    },
    {
     "data": {
      "application/vnd.jupyter.widget-view+json": {
       "model_id": "70839d89d26a4ac8b01b152718d9192d",
       "version_major": 2,
       "version_minor": 0
      },
      "text/plain": [
       "HBox(children=(IntProgress(value=0, max=500), HTML(value='')))"
      ]
     },
     "metadata": {},
     "output_type": "display_data"
    },
    {
     "name": "stdout",
     "output_type": "stream",
     "text": [
      "22917 500 45.834\n"
     ]
    },
    {
     "data": {
      "application/vnd.jupyter.widget-view+json": {
       "model_id": "cc04241de04c4cb49476ef66a9afd98c",
       "version_major": 2,
       "version_minor": 0
      },
      "text/plain": [
       "HBox(children=(IntProgress(value=0, max=500), HTML(value='')))"
      ]
     },
     "metadata": {},
     "output_type": "display_data"
    },
    {
     "name": "stdout",
     "output_type": "stream",
     "text": [
      "14505 500 29.01\n"
     ]
    },
    {
     "data": {
      "application/vnd.jupyter.widget-view+json": {
       "model_id": "e8c3e71f636d4428af2cf767ab757597",
       "version_major": 2,
       "version_minor": 0
      },
      "text/plain": [
       "HBox(children=(IntProgress(value=0, max=500), HTML(value='')))"
      ]
     },
     "metadata": {},
     "output_type": "display_data"
    },
    {
     "name": "stdout",
     "output_type": "stream",
     "text": [
      "17515 500 35.03\n"
     ]
    },
    {
     "data": {
      "application/vnd.jupyter.widget-view+json": {
       "model_id": "5e8a3abfa32d4d94856987c3a239dc0d",
       "version_major": 2,
       "version_minor": 0
      },
      "text/plain": [
       "HBox(children=(IntProgress(value=0, max=500), HTML(value='')))"
      ]
     },
     "metadata": {},
     "output_type": "display_data"
    },
    {
     "name": "stdout",
     "output_type": "stream",
     "text": [
      "18291 500 36.582\n"
     ]
    },
    {
     "data": {
      "application/vnd.jupyter.widget-view+json": {
       "model_id": "a0418153ef7e4184b5d22cccc2456f53",
       "version_major": 2,
       "version_minor": 0
      },
      "text/plain": [
       "HBox(children=(IntProgress(value=0, max=500), HTML(value='')))"
      ]
     },
     "metadata": {},
     "output_type": "display_data"
    },
    {
     "name": "stdout",
     "output_type": "stream",
     "text": [
      "15999 500 31.998\n"
     ]
    },
    {
     "data": {
      "application/vnd.jupyter.widget-view+json": {
       "model_id": "00c078b0a3c0417aba9440f4e7a1d245",
       "version_major": 2,
       "version_minor": 0
      },
      "text/plain": [
       "HBox(children=(IntProgress(value=0, max=500), HTML(value='')))"
      ]
     },
     "metadata": {},
     "output_type": "display_data"
    },
    {
     "name": "stdout",
     "output_type": "stream",
     "text": [
      "15000 500 30.0\n"
     ]
    }
   ],
   "source": [
    "opt_results_new = []\n",
    "for i in range(N):\n",
    "    \n",
    "    cur_res = []\n",
    "    \n",
    "    for j in tqdm(range(VALIDATION_GRAPH_NUM)):\n",
    "        cur_g = all_graphs[i][j]\n",
    "        #print(nx.density(cur_g))\n",
    "        C = mvc_bb(cur_g , len(cur_g.nodes()) , [])\n",
    "        cur_res.append(len(C))\n",
    "    print(sum(cur_res) , len(cur_res) , sum(cur_res)/len(cur_res))\n",
    "    opt_results_new.append(sum(cur_res)/len(cur_res))"
   ]
  },
  {
   "cell_type": "code",
   "execution_count": null,
   "metadata": {},
   "outputs": [],
   "source": []
  },
  {
   "cell_type": "code",
   "execution_count": 228,
   "metadata": {},
   "outputs": [
    {
     "data": {
      "text/plain": [
       "33.122"
      ]
     },
     "execution_count": 228,
     "metadata": {},
     "output_type": "execute_result"
    }
   ],
   "source": [
    "validation(dqn , all_graphs[0][:])"
   ]
  },
  {
   "cell_type": "code",
   "execution_count": 236,
   "metadata": {},
   "outputs": [
    {
     "data": {
      "text/plain": [
       "1.0193893881570848"
      ]
     },
     "execution_count": 236,
     "metadata": {},
     "output_type": "execute_result"
    }
   ],
   "source": [
    "33.122/32.492"
   ]
  },
  {
   "cell_type": "code",
   "execution_count": 70,
   "metadata": {},
   "outputs": [],
   "source": [
    "for i in range(1):\n",
    "    g = nx.erdos_renyi_graph(n = 50 , p = 0.15)\n",
    "    env = MVC_environement(g)\n",
    "    \n",
    "    sol = mvc_bb(g , len(g.nodes()) , [])\n",
    "    done = False\n",
    "    idx = 0\n",
    "    while done == False:\n",
    "        action = sol[idx]\n",
    "        idx += 1\n",
    "        _ , _ , done = env.take_action(action)"
   ]
  },
  {
   "cell_type": "code",
   "execution_count": null,
   "metadata": {},
   "outputs": [],
   "source": []
  },
  {
   "cell_type": "code",
   "execution_count": 4,
   "metadata": {},
   "outputs": [],
   "source": [
    "import numpy as np\n",
    "from collections import namedtuple\n",
    "\n",
    "experience = namedtuple(\"experience\" , ['graph','Xv','action','reward','next_Xv','is_done'])\n",
    "\n",
    "class replay_buffer():\n",
    "    def __init__(self , max_size):\n",
    "        self.buffer = np.zeros(  [max_size],dtype = experience)\n",
    "        self.max_size = max_size\n",
    "        self.size = 0\n",
    "        self.idx = -1\n",
    "    def push(self , new_exp):\n",
    "        if(self.size >= self.max_size):\n",
    "            self.idx = (self.idx+1) % self.max_size\n",
    "        else:\n",
    "            self.idx = self.idx + 1\n",
    "            self.size += 1\n",
    "        \n",
    "        self.buffer[self.idx] = new_exp\n",
    "    \n",
    "    def sample(self , batch_size):\n",
    "        batch = np.random.choice(np.arange(self.size) , size = batch_size , replace=False)\n",
    "        \n",
    "        return self.buffer[[batch]]\n",
    "    \n"
   ]
  },
  {
   "cell_type": "code",
   "execution_count": null,
   "metadata": {},
   "outputs": [],
   "source": []
  },
  {
   "cell_type": "code",
   "execution_count": 6,
   "metadata": {},
   "outputs": [],
   "source": [
    "def approximate_algo(env):\n",
    "    edge_list = env.edges[:]\n",
    "    \n",
    "    C =  set()\n",
    "    #print(len(edge_list))\n",
    "    while( len(edge_list) > 0):\n",
    "        #print(len(edge_list))\n",
    "        e = edge_list[-1]\n",
    "        u,v = e\n",
    "        C.add(u)\n",
    "        C.add(v)\n",
    "        to_remove = []\n",
    "        for ed in edge_list:\n",
    "            if (u in ed) or (v in ed):\n",
    "                to_remove.append(ed)\n",
    "        for ed in to_remove:\n",
    "            edge_list.remove(ed)\n",
    "    \n",
    "    for v in C:\n",
    "        env.take_action(v)\n",
    "    \n",
    "    return C\n",
    "\n"
   ]
  },
  {
   "cell_type": "code",
   "execution_count": 227,
   "metadata": {},
   "outputs": [],
   "source": [
    "def validation(dqn , validation_graph , device = 'cuda:0'):\n",
    "    objective_vals = []\n",
    "    for g in validation_graph:\n",
    "        env = MVC_environement(g)\n",
    "        Xv , graph = env.reset_env()\n",
    "        graph = torch.unsqueeze(graph,  0)\n",
    "        Xv = Xv.clone()\n",
    "        Xv = Xv.cuda()\n",
    "        graph = graph.to(device)\n",
    "        done = False\n",
    "        non_selected = list(np.arange(env.num_nodes))\n",
    "        selected = []\n",
    "        while done == False:\n",
    "            #Xv = Xv.cuda()\n",
    "            Xv = Xv.to(device)\n",
    "            val = dqn(graph , Xv)[0]\n",
    "            val[selected] = -float('inf')\n",
    "            action = int(torch.argmax(val).item())\n",
    "            Xv_next , reward , done = env.take_action(action)\n",
    "            non_selected.remove(action)\n",
    "            selected.append(action)\n",
    "            Xv = Xv_next\n",
    "        #print(selected)\n",
    "        objective_vals.append(len(selected))\n",
    "    return sum(objective_vals)/len(objective_vals)"
   ]
  },
  {
   "cell_type": "code",
   "execution_count": null,
   "metadata": {
    "scrolled": true
   },
   "outputs": [],
   "source": []
  },
  {
   "cell_type": "code",
   "execution_count": 271,
   "metadata": {},
   "outputs": [],
   "source": [
    "def training_validation( validation_a , validation_bs , validation_per_epoch = 30 , num_validation = 20  ,\n",
    "                        type_train = 'er', graph_size = 50 , device = 'cuda:1' , \n",
    "                        density = 0.1 , opt_train = -1 , opt_val=[] , imitation = False):\n",
    "    \n",
    "    torch.cuda.manual_seed_all(19960214) # for reproduce\n",
    "    torch.manual_seed(19960214) # for reproduce\n",
    "    np.random.seed(19960214)\n",
    "    random.seed(19960214)\n",
    "    MAX_EPISODE = validation_per_epoch * num_validation + 1\n",
    "    dqn = embedding_network(emb_dim=64 , T = 5 , device=device , init_factor = 10 , w_scale = 0.01).double()\n",
    "    target_net = embedding_network(emb_dim=64 , T = 5,device=device , init_factor = 10 , w_scale = 0.01).double()\n",
    "    target_net.load_state_dict(dqn.state_dict())\n",
    "    EPS_START = 1.00\n",
    "    EPS_END = 0.05\n",
    "    EPS_DECAY = 10000\n",
    "    steps_done = 0\n",
    "    loss_func = torch.nn.MSELoss()\n",
    "    USE_CUDA = torch.cuda.is_available()\n",
    "    N_STEP = 2\n",
    "    reward_history = []\n",
    "    batch_size = 64\n",
    "    buffer = replay_buffer(500000)\n",
    "    optimizer = torch.optim.Adam(dqn.parameters(),lr=0.0001 , amsgrad=False)\n",
    "    #optimizer = torch.optim.RMSprop(dqn.parameters(), lr = 0.0001)\n",
    "    validation_result = []\n",
    "    another_result = [[] for _ in range(len(validation_bs))]\n",
    "    reward_history = []\n",
    "    res = []\n",
    "    if opt_train == -1:\n",
    "        for g in validation_a:\n",
    "            #env = MVC_environement(g)\n",
    "            #C = approximate_algo(env)\n",
    "            #C = min_weighted_vertex_cover(g)\n",
    "            C = mvc_bb(g , len(g.nodes()) , [])\n",
    "            res.append(len(C))\n",
    "        approx_val = sum(res)/len(res)\n",
    "    else:\n",
    "        approx_val = opt_train\n",
    "        \n",
    "    approx_val_anothers = []\n",
    "    if len(opt_val) == 0:\n",
    "        for validation_b in validation_bs:\n",
    "            res = []\n",
    "            for g in validation_b:\n",
    "                #env = MVC_environement(g)\n",
    "                #C = approximate_algo(env)\n",
    "                #C = min_weighted_vertex_cover(g)\n",
    "                C = mvc_bb(g , len(g.nodes()) , [])\n",
    "                res.append(len(C))\n",
    "            approx_val_another = sum(res)/len(res)\n",
    "            approx_val_anothers.append(approx_val_another)\n",
    "    else:\n",
    "        approx_val_anothers = opt_val[:]\n",
    "\n",
    "    if USE_CUDA:\n",
    "        #dqn = dqn.cuda()\n",
    "        #target_net = target_net.cuda()\n",
    "        dqn.to(device)\n",
    "        target_net.to(device)\n",
    "    fitted_q_exp = namedtuple(\"fitted_exp\" , ['graph','Xv','action','reward'])\n",
    "    \n",
    "    #print('density',nx.density(validation_a[0]),nx.density(validation_b[0]))\n",
    "    print('value',approx_val,end=' ' )\n",
    "    for va in approx_val_anothers:\n",
    "        print(va,end=' ')\n",
    "    print('')\n",
    "    for e in tqdm(range(MAX_EPISODE)):\n",
    "        def density_to_edge_ba(n , p):\n",
    "            return math.ceil( p *n  /2)\n",
    "        #p = np.random.uniform(0.05,0.3)\n",
    "        if type_train == 'er':\n",
    "            g = nx.erdos_renyi_graph(n = graph_size , p = density)\n",
    "        elif type_train == 'ba':\n",
    "            ba_m = density_to_edge_ba(graph_size , density)\n",
    "            g = g = nx.barabasi_albert_graph(graph_size , ba_m)\n",
    "        else:\n",
    "            raise 'Not Implemented'\n",
    "        \n",
    "        #if e % 2 == 0:\n",
    "        #    imitation = False\n",
    "        #else:\n",
    "        #    imitation = True\n",
    "        \n",
    "        if imitation:\n",
    "            opt_sol = mvc_bb(g , len(g.nodes()) , [])\n",
    "            idx = 0\n",
    "        env = MVC_environement(g)\n",
    "        \n",
    "        Xv , graph = env.reset_env()\n",
    "        Xv = Xv.clone()\n",
    "        graph = torch.unsqueeze(graph,  0)\n",
    "        done = False\n",
    "        \n",
    "        non_selected = list(np.arange(env.num_nodes))\n",
    "        selected = []\n",
    "        eps_reward = []\n",
    "        \n",
    "        if USE_CUDA:\n",
    "            graph = graph.to(device)\n",
    "            Xv = Xv.to(device)\n",
    "        N = 0\n",
    "        reward_list = []\n",
    "        fitted_experience_list = []\n",
    "        cur_episode_loss = []\n",
    "        \n",
    "        \n",
    "        idx = 0\n",
    "        \n",
    "        while done == False:\n",
    "            eps_threshold = EPS_END + (EPS_START - EPS_END) * \\\n",
    "            math.exp(-1. * steps_done / EPS_DECAY)\n",
    "\n",
    "            if USE_CUDA:\n",
    "                #Xv = Xv.cuda()\n",
    "                Xv = Xv.to(device)\n",
    "            \n",
    "            if imitation:\n",
    "                #print(len(opt_sol) , idx , done)\n",
    "                action = opt_sol[idx]\n",
    "                #print(action)\n",
    "                idx += 1\n",
    "            else:\n",
    "                if np.random.uniform() > eps_threshold:\n",
    "                    val = dqn(graph , Xv)[0]\n",
    "                    #print(val)\n",
    "                    #break\n",
    "                    val[selected] = -float('inf')\n",
    "                    action = int(torch.argmax(val).item())\n",
    "                else:\n",
    "                    action = int(np.random.choice(non_selected))\n",
    "            \n",
    "            Xv_next , reward , done = env.take_action(action)\n",
    "            #print('total',len(env.edges) , 'cover' , env.covered_edges)\n",
    "            \n",
    "            eps_reward.append(reward)\n",
    "            Xv_next = Xv_next.clone()\n",
    "            fit_ex = fitted_q_exp(graph , Xv , action , reward)\n",
    "            fitted_experience_list.append(fit_ex)\n",
    "            \n",
    "            non_selected.remove(action)\n",
    "            selected.append(action)\n",
    "            N += 1 \n",
    "            reward_list.append(reward)\n",
    "            if N >= N_STEP:\n",
    "                n_reward = sum(reward_list)\n",
    "                #reward_n = reward\n",
    "                n_prev_ex = fitted_experience_list[0]\n",
    "                n_graph = n_prev_ex.graph\n",
    "                n_Xv = n_prev_ex.Xv\n",
    "                n_action = n_prev_ex.action\n",
    "                #ex = experience(graph , Xv , torch.tensor([action]) , torch.tensor([reward_n]) , Xv_next , done)\n",
    "                #print(sum(n_Xv[0]),sum( Xv_next[0]))\n",
    "                ex = experience(n_graph , n_Xv , torch.tensor([n_action]) , torch.tensor([n_reward]) , Xv_next , done)\n",
    "                buffer.push(ex)\n",
    "                fitted_experience_list.pop(0)\n",
    "                reward_list.pop(0)\n",
    "            Xv = Xv_next\n",
    "            \n",
    "            steps_done += 1\n",
    "\n",
    "            if buffer.size >= batch_size:\n",
    "                batch = buffer.sample(batch_size)\n",
    "                batch = experience(*zip(*batch))\n",
    "                batch_graph = torch.cat(batch.graph)\n",
    "                batch_state = torch.cat(batch.Xv)\n",
    "                batch_action = torch.cat(batch.action)\n",
    "                batch_reward = torch.cat(batch.reward).double()\n",
    "                batch_next_state = torch.cat(batch.next_Xv)\n",
    "                non_final_mask = torch.tensor(tuple(map(lambda s : s is not True, batch.is_done)),dtype = torch.uint8)\n",
    "\n",
    "                non_final_graph = batch_graph[non_final_mask]\n",
    "                non_final_next_state = batch_next_state[non_final_mask]\n",
    "\n",
    "                next_state_value = torch.zeros(batch_size).detach().double()\n",
    "                if USE_CUDA:\n",
    "                    batch_graph = batch_graph.to(device)\n",
    "                    batch_state = batch_state.to(device)\n",
    "                    batch_action = batch_action.to(device)\n",
    "                    batch_reward = batch_reward.to(device)\n",
    "                    batch_next_state = batch_next_state.to(device)\n",
    "                    next_state_value = next_state_value.to(device)\n",
    "                    non_final_graph = non_final_graph.to(device)\n",
    "                    non_final_next_state = non_final_next_state.to(device)\n",
    "\n",
    "                pred_q = dqn(batch_graph , batch_state ).gather(1 , batch_action.view(-1,1)).view(-1)\n",
    "\n",
    "                \n",
    "                next_state_value[non_final_mask] = target_net(non_final_graph , non_final_next_state).max(1)[0].detach()\n",
    "                expected_q = next_state_value + batch_reward\n",
    "                loss = loss_func(pred_q , expected_q)\n",
    "                optimizer.zero_grad()\n",
    "                loss.backward()\n",
    "                optimizer.step()\n",
    "                cur_episode_loss.append(loss.item())\n",
    "        #if len(cur_episode_loss) and e % 10 == 0:\n",
    "        #    print(sum(cur_episode_loss)/len(cur_episode_loss) , eps_threshold)\n",
    "        if e > 0 and e % 8 == 0:\n",
    "            target_net.load_state_dict(dqn.state_dict())\n",
    "            \n",
    "        if e > 0 and e % validation_per_epoch == 0:\n",
    "            v = validation(dqn , validation_a , device=device)\n",
    "            validation_result.append(v / approx_val)\n",
    "            for i , validation_b in enumerate(validation_bs):\n",
    "                v = validation(dqn , validation_b , device=device)\n",
    "                another_result[i].append(v / approx_val_anothers[i])\n",
    "        reward_history.append(sum(eps_reward))\n",
    "    return validation_result , another_result  , reward_history , dqn"
   ]
  },
  {
   "cell_type": "code",
   "execution_count": 162,
   "metadata": {},
   "outputs": [],
   "source": [
    "def density_to_edge_ba(n , p):\n",
    "    return math.ceil( p *n  /2)\n",
    "def validation_graph_gen(n , p , num = 100, graph_type = 'er'):\n",
    "    np.random.seed(19960214)\n",
    "    random.seed(19960214)\n",
    "    validation_graph = []\n",
    "    for i in range(num):\n",
    "        if graph_type == 'er':\n",
    "            g = nx.erdos_renyi_graph(n , p)\n",
    "            validation_graph.append(g)\n",
    "        elif graph_type == 'ba':\n",
    "            m = density_to_edge_ba(n , p)\n",
    "            g = nx.barabasi_albert_graph(n , m)\n",
    "            validation_graph.append(g)\n",
    "            \n",
    "    return validation_graph\n",
    "\n",
    "def test_with_paras( graph_size , graph_type_a , density_a , graph_type_b , density_b):\n",
    "    val_a = validation_graph_gen(n = graph_size , p = density_a  , graph_type = graph_type_a)\n",
    "    val_b = validation_graph_gen(n = graph_size , p = density_b  , graph_type = graph_type_b)\n",
    "    ba_m = density_to_edge_ba(graph_size , density_a)\n",
    "    result_a , result_b , _ = training_validation(val_a , val_b , num_validation=25 , validation_per_epoch=10 , \n",
    "                                                 type_train = graph_type_a , graph_size = graph_size,\n",
    "                                                 er_p = density_a , ba_m = ba_m)\n",
    "    return result_a , result_b"
   ]
  },
  {
   "cell_type": "code",
   "execution_count": null,
   "metadata": {
    "scrolled": true
   },
   "outputs": [
    {
     "name": "stdout",
     "output_type": "stream",
     "text": [
      "[32.492, 38.584, 42.546, 44.888, 45.834, 29.01, 35.03, 36.582, 31.998, 30.0]\n",
      "training  (50, 'er', 0.3)\n",
      "value 38.584 32.492 42.546 44.888 45.834 29.01 35.03 36.582 31.998 30.0 \n"
     ]
    },
    {
     "data": {
      "application/vnd.jupyter.widget-view+json": {
       "model_id": "e1cba8ee59e94d4f9b80579f76e7b26f",
       "version_major": 2,
       "version_minor": 0
      },
      "text/plain": [
       "HBox(children=(IntProgress(value=0, max=7501), HTML(value='')))"
      ]
     },
     "metadata": {},
     "output_type": "display_data"
    }
   ],
   "source": [
    "import os\n",
    "from pathlib import Path\n",
    "import matplotlib.pyplot as plt\n",
    "graph_size_list = [50]\n",
    "graph_type_list = ['er' , 'ba']\n",
    "density_list = [0.15,0.3,0.5,0.7,0.8]\n",
    "\n",
    "parameter_list = list(itertools.product(graph_size_list , graph_type_list ,density_list))\n",
    "N = len(parameter_list)\n",
    "VALIDATION_GRAPH_NUM = 500\n",
    "'''\n",
    "performance_dict = {}\n",
    "all_graphs = []\n",
    "opt_results = []\n",
    "for i in range(N):\n",
    "    train_size = parameter_list[i][0]\n",
    "    train_type = parameter_list[i][1]\n",
    "    train_density = parameter_list[i][2]\n",
    "    \n",
    "    train_graphs = validation_graph_gen(n = train_size , p = train_density \n",
    "                                        , num = VALIDATION_GRAPH_NUM , graph_type=train_type)\n",
    "    \n",
    "    all_graphs.append(train_graphs)\n",
    "\n",
    "for i in range(N):\n",
    "    \n",
    "    cur_res = []\n",
    "    \n",
    "    for j in tqdm(range(VALIDATION_GRAPH_NUM)):\n",
    "        cur_g = all_graphs[i][j]\n",
    "        C = mvc_bb(cur_g , len(cur_g.nodes()) , [])\n",
    "        cur_res.append(len(C))\n",
    "    opt_results.append(sum(cur_res)/len(cur_res))\n",
    "'''\n",
    "\n",
    "print(opt_results)\n",
    "for i in range(1,N):\n",
    "    train_size = parameter_list[i][0]\n",
    "    train_type = parameter_list[i][1]\n",
    "    train_density = parameter_list[i][2]\n",
    "    legend_word = ['{}_{}'.format(train_type,train_density)]\n",
    "    opt_train = opt_results[i]\n",
    "    train_graphs = all_graphs[i][:]\n",
    "    opt_vals = []\n",
    "    validation_anothers = []\n",
    "    print('training ',parameter_list[i])\n",
    "    for j in range(N):\n",
    "        \n",
    "        if i == j:\n",
    "            continue\n",
    "        val_size = parameter_list[j][0]\n",
    "        val_type = parameter_list[j][1]\n",
    "        val_density = parameter_list[j][2]\n",
    "        \n",
    "        validation_anothers.append(all_graphs[j][:])\n",
    "        opt_vals.append(opt_results[j])\n",
    "        legend_word.append('{}_{}'.format(val_type,val_density))\n",
    "    validation_result , another_result  , reward_history , dqn = training_validation(train_graphs , validation_anothers,\n",
    "                                                                              num_validation=250 , validation_per_epoch=30,\n",
    "                                                                              type_train= train_type , graph_size=train_size\n",
    "                                                                              ,density = train_density , \n",
    "                                                                                    opt_train=opt_train,\n",
    "                                                                              opt_val = opt_vals, device='cuda:0',\n",
    "                                                                                    imitation=False)\n",
    "    plt.plot(validation_result)\n",
    "    performance_dict[legend_word[0]] = {legend_word[0]:validation_result}\n",
    "    for v , l in zip(another_result , legend_word[1:]):\n",
    "        plt.plot(v)\n",
    "        performance_dict[legend_word[0]][l] = v\n",
    "    plt.legend(legend_word)\n",
    "    plt.show()\n",
    "    \n"
   ]
  },
  {
   "cell_type": "code",
   "execution_count": 151,
   "metadata": {},
   "outputs": [],
   "source": [
    "#pickle_save(performance_dict , 'validation_result/performance_dict_0224_15_70.pkl')"
   ]
  },
  {
   "cell_type": "code",
   "execution_count": 266,
   "metadata": {},
   "outputs": [
    {
     "data": {
      "text/plain": [
       "([32.492, 38.584, 42.546, 44.888, 45.834, 29.01, 35.03, 36.582, 31.998, 30.0],\n",
       " [34.41, 40.494, 44.102, 46.036, 46.834, 30.216, 36.558, 37.91, 32.07, 30.0])"
      ]
     },
     "execution_count": 266,
     "metadata": {},
     "output_type": "execute_result"
    }
   ],
   "source": [
    "opt_results_new,opt_results_old"
   ]
  },
  {
   "cell_type": "code",
   "execution_count": null,
   "metadata": {},
   "outputs": [],
   "source": []
  },
  {
   "cell_type": "code",
   "execution_count": null,
   "metadata": {},
   "outputs": [],
   "source": []
  },
  {
   "cell_type": "code",
   "execution_count": 262,
   "metadata": {},
   "outputs": [
    {
     "data": {
      "text/plain": [
       "<matplotlib.legend.Legend at 0x7f4c92640f60>"
      ]
     },
     "execution_count": 262,
     "metadata": {},
     "output_type": "execute_result"
    },
    {
     "data": {
      "image/png": "[encoded data removed]",
      "text/plain": [
       "<Figure size 720x576 with 1 Axes>"
      ]
     },
     "metadata": {
      "needs_background": "light"
     },
     "output_type": "display_data"
    }
   ],
   "source": [
    "legend_w = []\n",
    "plt.figure(figsize=(10,8))\n",
    "for k , v in performance_dict['er_0.15'].items():\n",
    "    legend_w.append(k)\n",
    "    plt.plot(v)\n",
    "    \n",
    "plt.legend(legend_w)"
   ]
  }
 ],
 "metadata": {
  "kernelspec": {
   "display_name": "Python 3",
   "language": "python",
   "name": "python3"
  }
 },
 "nbformat": 4,
 "nbformat_minor": 2
}

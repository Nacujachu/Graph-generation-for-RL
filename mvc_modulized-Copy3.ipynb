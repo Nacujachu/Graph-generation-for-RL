{
 "cells": [
  {
   "cell_type": "code",
   "execution_count": 1,
   "metadata": {},
   "outputs": [],
   "source": [
    "%load_ext autoreload\n",
    "%autoreload 2\n",
    "from MVC_env import MVC_environement\n",
    "from DQN_network import embedding_network\n",
    "import numpy as np\n",
    "import networkx as nx\n",
    "import math\n",
    "import torch\n",
    "from tqdm import tqdm_notebook as tqdm\n",
    "import pickle\n",
    "from networkx.algorithms.approximation import min_weighted_vertex_cover\n",
    "import random\n",
    "import itertools\n",
    "def pickle_save(data,file_name):\n",
    "    with open(file_name,'wb') as f:\n",
    "        pickle.dump(data , f)\n",
    "def pickle_load(file_name):\n",
    "    with open(file_name,'rb') as f:\n",
    "        return pickle.load(f)\n",
    "\n",
    "\n",
    "np.random.seed(19960214)\n",
    "random.seed(19960214)"
   ]
  },
  {
   "cell_type": "code",
   "execution_count": null,
   "metadata": {},
   "outputs": [],
   "source": []
  },
  {
   "cell_type": "code",
   "execution_count": 2,
   "metadata": {},
   "outputs": [],
   "source": [
    "import numpy as np\n",
    "from collections import namedtuple\n",
    "\n",
    "experience = namedtuple(\"experience\" , ['graph','Xv','action','reward','next_Xv','is_done'])\n",
    "\n",
    "class replay_buffer():\n",
    "    def __init__(self , max_size):\n",
    "        self.buffer = np.zeros(  [max_size],dtype = experience)\n",
    "        self.max_size = max_size\n",
    "        self.size = 0\n",
    "        self.idx = -1\n",
    "    def push(self , new_exp):\n",
    "        if(self.size >= self.max_size):\n",
    "            self.idx = (self.idx+1) % self.max_size\n",
    "        else:\n",
    "            self.idx = self.idx + 1\n",
    "            self.size += 1\n",
    "        \n",
    "        self.buffer[self.idx] = new_exp\n",
    "    \n",
    "    def sample(self , batch_size):\n",
    "        batch = np.random.choice(np.arange(self.size) , size = batch_size , replace=False)\n",
    "        \n",
    "        return self.buffer[[batch]]\n",
    "    \n"
   ]
  },
  {
   "cell_type": "code",
   "execution_count": null,
   "metadata": {},
   "outputs": [],
   "source": []
  },
  {
   "cell_type": "code",
   "execution_count": 3,
   "metadata": {},
   "outputs": [],
   "source": [
    "def approximate_algo(env):\n",
    "    edge_list = env.edges[:]\n",
    "    \n",
    "    C =  set()\n",
    "    #print(len(edge_list))\n",
    "    while( len(edge_list) > 0):\n",
    "        #print(len(edge_list))\n",
    "        e = edge_list[-1]\n",
    "        u,v = e\n",
    "        C.add(u)\n",
    "        C.add(v)\n",
    "        to_remove = []\n",
    "        for ed in edge_list:\n",
    "            if (u in ed) or (v in ed):\n",
    "                to_remove.append(ed)\n",
    "        for ed in to_remove:\n",
    "            edge_list.remove(ed)\n",
    "    \n",
    "    for v in C:\n",
    "        env.take_action(v)\n",
    "    \n",
    "    return C\n",
    "\n"
   ]
  },
  {
   "cell_type": "code",
   "execution_count": 4,
   "metadata": {},
   "outputs": [],
   "source": [
    "def validation(dqn , validation_graph):\n",
    "    objective_vals = []\n",
    "    for g in validation_graph:\n",
    "        env = MVC_environement(g)\n",
    "        Xv , graph = env.reset_env()\n",
    "        graph = torch.unsqueeze(graph,  0)\n",
    "        Xv = Xv.clone()\n",
    "        Xv = Xv.cuda()\n",
    "        graph = graph.cuda()\n",
    "        done = False\n",
    "        non_selected = list(np.arange(env.num_nodes))\n",
    "        selected = []\n",
    "        while done == False:\n",
    "            Xv = Xv.cuda()\n",
    "            val = dqn(graph , Xv)[0]\n",
    "            val[selected] = -float('inf')\n",
    "            action = int(torch.argmax(val).item())\n",
    "            Xv_next , reward , done = env.take_action(action)\n",
    "            non_selected.remove(action)\n",
    "            selected.append(action)\n",
    "            Xv = Xv_next\n",
    "        objective_vals.append(len(selected))\n",
    "    return sum(objective_vals)/len(objective_vals)"
   ]
  },
  {
   "cell_type": "code",
   "execution_count": 5,
   "metadata": {},
   "outputs": [],
   "source": [
    "def training_validation( validation_a , validation_b , validation_per_epoch = 30 , num_validation = 20  , type_train = 'er',\n",
    "                       er_p = 0.15 , ba_m = 4 , graph_size = 50):\n",
    "    \n",
    "    torch.cuda.manual_seed_all(19960214) # for reproduce\n",
    "    torch.manual_seed(19960214) # for reproduce\n",
    "    np.random.seed(19960214)\n",
    "    random.seed(19960214)\n",
    "    MAX_EPISODE = validation_per_epoch * num_validation + 1\n",
    "    dqn = embedding_network(emb_dim=64 , T = 5).double()\n",
    "    target_net = embedding_network(emb_dim=64 , T = 5).double()\n",
    "    target_net.load_state_dict(dqn.state_dict())\n",
    "    EPS_START = 1.00\n",
    "    EPS_END = 0.05\n",
    "    EPS_DECAY = 7000\n",
    "    steps_done = 0\n",
    "    loss_func = torch.nn.MSELoss()\n",
    "    USE_CUDA = torch.cuda.is_available()\n",
    "    N_STEP = 5\n",
    "    reward_history = []\n",
    "    batch_size = 128\n",
    "    buffer = replay_buffer(10000)\n",
    "    optimizer = torch.optim.Adam(dqn.parameters(),lr=0.00001 , amsgrad=True)\n",
    "    #optimizer = torch.optim.RMSprop(dqn.parameters(), lr = 0.0001)\n",
    "    validation_result = []\n",
    "    another_result = []\n",
    "    reward_history = []\n",
    "    res = []\n",
    "    for g in validation_a:\n",
    "        #env = MVC_environement(g)\n",
    "        #C = approximate_algo(env)\n",
    "        C = min_weighted_vertex_cover(g)\n",
    "        res.append(len(C))\n",
    "    approx_val = sum(res)/len(res)\n",
    "    res = []\n",
    "    for g in validation_b:\n",
    "        #env = MVC_environement(g)\n",
    "        #C = approximate_algo(env)\n",
    "        C = min_weighted_vertex_cover(g)\n",
    "        res.append(len(C))\n",
    "    approx_val_another = sum(res)/len(res)\n",
    "    \n",
    "    \n",
    "    if USE_CUDA:\n",
    "        dqn = dqn.cuda()\n",
    "        target_net = target_net.cuda()\n",
    "        \n",
    "    fitted_q_exp = namedtuple(\"fitted_exp\" , ['graph','Xv','action','reward'])\n",
    "    \n",
    "    #print('density',nx.density(validation_a[0]),nx.density(validation_b[0]))\n",
    "    print('value',approx_val , approx_val_another)\n",
    "    for e in tqdm(range(MAX_EPISODE)):\n",
    "        \n",
    "        #p = np.random.uniform(0.05,0.3)\n",
    "        if type_train == 'er':\n",
    "            g = nx.erdos_renyi_graph(n = graph_size , p = er_p)\n",
    "        elif type_train == 'ba':\n",
    "            g = g = nx.barabasi_albert_graph(graph_size , ba_m)\n",
    "        else:\n",
    "            raise 'Not Implemented'\n",
    "            \n",
    "        env = MVC_environement(g)\n",
    "        Xv , graph = env.reset_env()\n",
    "        Xv = Xv.clone()\n",
    "        graph = torch.unsqueeze(graph,  0)\n",
    "        done = False\n",
    "        non_selected = list(np.arange(env.num_nodes))\n",
    "        selected = []\n",
    "        eps_reward = []\n",
    "        \n",
    "        if USE_CUDA:\n",
    "            graph = graph.cuda()\n",
    "            Xv = Xv.cuda()\n",
    "        N = 0\n",
    "        reward_list = []\n",
    "        fitted_experience_list = []\n",
    "        cur_episode_loss = []\n",
    "        \n",
    "        while done == False:\n",
    "            eps_threshold = EPS_END + (EPS_START - EPS_END) * \\\n",
    "            math.exp(-1. * steps_done / EPS_DECAY)\n",
    "\n",
    "            if USE_CUDA:\n",
    "                Xv = Xv.cuda()\n",
    "\n",
    "            if np.random.uniform() > eps_threshold:\n",
    "                val = dqn(graph , Xv)[0]\n",
    "                #print(val)\n",
    "                #break\n",
    "                val[selected] = -float('inf')\n",
    "                action = int(torch.argmax(val).item())\n",
    "            else:\n",
    "                action = int(np.random.choice(non_selected))\n",
    "            \n",
    "            Xv_next , reward , done = env.take_action(action)\n",
    "            eps_reward.append(reward)\n",
    "            Xv_next = Xv_next.clone()\n",
    "            fit_ex = fitted_q_exp(graph , Xv , action , reward)\n",
    "            fitted_experience_list.append(fit_ex)\n",
    "            \n",
    "            non_selected.remove(action)\n",
    "            selected.append(action)\n",
    "            N += 1 \n",
    "            reward_list.append(reward)\n",
    "            if N >= N_STEP:\n",
    "                n_reward = sum(reward_list)\n",
    "                #reward_n = reward\n",
    "                n_prev_ex = fitted_experience_list[0]\n",
    "                n_graph = n_prev_ex.graph\n",
    "                n_Xv = n_prev_ex.Xv\n",
    "                n_action = n_prev_ex.action\n",
    "                #ex = experience(graph , Xv , torch.tensor([action]) , torch.tensor([reward_n]) , Xv_next , done)\n",
    "                #print(sum(n_Xv[0]),sum( Xv_next[0]))\n",
    "                ex = experience(n_graph , n_Xv , torch.tensor([n_action]) , torch.tensor([n_reward]) , Xv_next , done)\n",
    "                buffer.push(ex)\n",
    "                fitted_experience_list.pop(0)\n",
    "                reward_list.pop(0)\n",
    "            Xv = Xv_next\n",
    "            \n",
    "            steps_done += 1\n",
    "\n",
    "            if buffer.size >= batch_size:\n",
    "                batch = buffer.sample(batch_size)\n",
    "                batch = experience(*zip(*batch))\n",
    "                batch_graph = torch.cat(batch.graph)\n",
    "                batch_state = torch.cat(batch.Xv)\n",
    "                batch_action = torch.cat(batch.action)\n",
    "                batch_reward = torch.cat(batch.reward).double()\n",
    "                batch_next_state = torch.cat(batch.next_Xv)\n",
    "                non_final_mask = torch.tensor(tuple(map(lambda s : s is not True, batch.is_done)),dtype = torch.uint8)\n",
    "\n",
    "                non_final_graph = batch_graph[non_final_mask]\n",
    "                non_final_next_state = batch_next_state[non_final_mask]\n",
    "\n",
    "                next_state_value = torch.zeros(batch_size).detach().double()\n",
    "                if USE_CUDA:\n",
    "                    batch_graph = batch_graph.cuda()\n",
    "                    batch_state = batch_state.cuda()\n",
    "                    batch_action = batch_action.cuda()\n",
    "                    batch_reward = batch_reward.cuda()\n",
    "                    batch_next_state = batch_next_state.cuda()\n",
    "                    next_state_value = next_state_value.cuda()\n",
    "                    non_final_graph = non_final_graph.cuda()\n",
    "                    non_final_next_state = non_final_next_state.cuda()\n",
    "\n",
    "                pred_q = dqn(batch_graph , batch_state ).gather(1 , batch_action.view(-1,1)).view(-1)\n",
    "\n",
    "                \n",
    "                next_state_value[non_final_mask] = target_net(non_final_graph , non_final_next_state).max(1)[0].detach()\n",
    "                expected_q = next_state_value + batch_reward\n",
    "                loss = loss_func(pred_q , expected_q)\n",
    "                optimizer.zero_grad()\n",
    "                loss.backward()\n",
    "                optimizer.step()\n",
    "                cur_episode_loss.append(loss.item())\n",
    "        #if len(cur_episode_loss) and e % 10 == 0:\n",
    "        #    print(sum(cur_episode_loss)/len(cur_episode_loss) , eps_threshold)\n",
    "        if e > 0 and e % 8 == 0:\n",
    "            target_net.load_state_dict(dqn.state_dict())\n",
    "        if e > 0 and e % validation_per_epoch == 0:\n",
    "            v = validation(dqn , validation_a)\n",
    "            validation_result.append(v / approx_val)\n",
    "            v = validation(dqn , validation_b)\n",
    "            another_result.append(v / approx_val_another)\n",
    "        reward_history.append(sum(eps_reward))\n",
    "    return validation_result , another_result  , reward_history"
   ]
  },
  {
   "cell_type": "code",
   "execution_count": null,
   "metadata": {},
   "outputs": [],
   "source": []
  },
  {
   "cell_type": "code",
   "execution_count": 6,
   "metadata": {},
   "outputs": [],
   "source": [
    "def density_to_edge_ba(n , p):\n",
    "    return math.ceil( p *n  /2)\n",
    "def validation_graph_gen(n , p , num = 100, graph_type = 'er'):\n",
    "    np.random.seed(19960214)\n",
    "    random.seed(19960214)\n",
    "    validation_graph = []\n",
    "    for i in range(num):\n",
    "        if graph_type == 'er':\n",
    "            g = nx.erdos_renyi_graph(n , p)\n",
    "            validation_graph.append(g)\n",
    "        elif graph_type == 'ba':\n",
    "            m = density_to_edge_ba(n , p)\n",
    "            g = nx.barabasi_albert_graph(n , m)\n",
    "            validation_graph.append(g)\n",
    "            \n",
    "    return validation_graph\n",
    "\n",
    "def test_with_para( graph_size , graph_type_a , density_a , graph_type_b , density_b):\n",
    "    print(density_a , density_b)\n",
    "    print(graph_type_a , graph_type_b)\n",
    "    val_a = validation_graph_gen(n = graph_size , p = density_a  , graph_type = graph_type_a)\n",
    "    val_b = validation_graph_gen(n = graph_size , p = density_b  , graph_type = graph_type_b)\n",
    "    ba_m = density_to_edge_ba(graph_size , density_a)\n",
    "    #print(nx.density(val_a[0]) , nx.density(val_b[0]))\n",
    "    result_a , result_b , _ = training_validation(val_a , val_b , num_validation=25 , validation_per_epoch=10 , \n",
    "                                                 type_train = graph_type_a , graph_size = graph_size,\n",
    "                                                 er_p = density_a , ba_m = ba_m)\n",
    "    return result_a , result_b"
   ]
  },
  {
   "cell_type": "code",
   "execution_count": null,
   "metadata": {
    "scrolled": false
   },
   "outputs": [
    {
     "name": "stdout",
     "output_type": "stream",
     "text": [
      "0.1 0.6\n",
      "er er\n",
      "value 193.2 199.0\n"
     ]
    },
    {
     "data": {
      "application/vnd.jupyter.widget-view+json": {
       "model_id": "a86d4773961340bca692b45878a34400",
       "version_major": 2,
       "version_minor": 0
      },
      "text/plain": [
       "HBox(children=(IntProgress(value=0, max=251), HTML(value='')))"
      ]
     },
     "metadata": {},
     "output_type": "display_data"
    },
    {
     "name": "stderr",
     "output_type": "stream",
     "text": [
      "/home/a9101214/anaconda3/lib/python3.7/site-packages/ipykernel_launcher.py:24: FutureWarning: Using a non-tuple sequence for multidimensional indexing is deprecated; use `arr[tuple(seq)]` instead of `arr[seq]`. In the future this will be interpreted as an array index, `arr[np.array(seq)]`, which will result either in an error or a different result.\n"
     ]
    },
    {
     "name": "stdout",
     "output_type": "stream",
     "text": [
      "\n"
     ]
    },
    {
     "data": {
      "image/png": "[encoded data removed]",
      "text/plain": [
       "<Figure size 432x288 with 1 Axes>"
      ]
     },
     "metadata": {
      "needs_background": "light"
     },
     "output_type": "display_data"
    },
    {
     "name": "stdout",
     "output_type": "stream",
     "text": [
      "0.1 0.1\n",
      "er ba\n",
      "value 193.2 178.92\n"
     ]
    },
    {
     "data": {
      "application/vnd.jupyter.widget-view+json": {
       "model_id": "861ab2674e5a4d8b879c02eca140f347",
       "version_major": 2,
       "version_minor": 0
      },
      "text/plain": [
       "HBox(children=(IntProgress(value=0, max=251), HTML(value='')))"
      ]
     },
     "metadata": {},
     "output_type": "display_data"
    },
    {
     "name": "stdout",
     "output_type": "stream",
     "text": [
      "\n"
     ]
    },
    {
     "data": {
      "image/png": "[encoded data removed]",
      "text/plain": [
       "<Figure size 432x288 with 1 Axes>"
      ]
     },
     "metadata": {
      "needs_background": "light"
     },
     "output_type": "display_data"
    },
    {
     "name": "stdout",
     "output_type": "stream",
     "text": [
      "0.1 0.6\n",
      "er ba\n",
      "value 193.2 197.2\n"
     ]
    },
    {
     "data": {
      "application/vnd.jupyter.widget-view+json": {
       "model_id": "0b008aba29c14bbf9ba5eb67a375afbc",
       "version_major": 2,
       "version_minor": 0
      },
      "text/plain": [
       "HBox(children=(IntProgress(value=0, max=251), HTML(value='')))"
      ]
     },
     "metadata": {},
     "output_type": "display_data"
    },
    {
     "name": "stdout",
     "output_type": "stream",
     "text": [
      "\n"
     ]
    },
    {
     "data": {
      "image/png": "[encoded data removed]",
      "text/plain": [
       "<Figure size 432x288 with 1 Axes>"
      ]
     },
     "metadata": {
      "needs_background": "light"
     },
     "output_type": "display_data"
    },
    {
     "name": "stdout",
     "output_type": "stream",
     "text": [
      "0.6 0.1\n",
      "er er\n",
      "value 199.0 193.2\n"
     ]
    },
    {
     "data": {
      "application/vnd.jupyter.widget-view+json": {
       "model_id": "aaab757a26f649a0993d9b6c75796fc1",
       "version_major": 2,
       "version_minor": 0
      },
      "text/plain": [
       "HBox(children=(IntProgress(value=0, max=251), HTML(value='')))"
      ]
     },
     "metadata": {},
     "output_type": "display_data"
    },
    {
     "name": "stdout",
     "output_type": "stream",
     "text": [
      "\n"
     ]
    },
    {
     "data": {
      "image/png": "[encoded data removed]",
      "text/plain": [
       "<Figure size 432x288 with 1 Axes>"
      ]
     },
     "metadata": {
      "needs_background": "light"
     },
     "output_type": "display_data"
    },
    {
     "name": "stdout",
     "output_type": "stream",
     "text": [
      "0.6 0.1\n",
      "er ba\n",
      "value 199.0 178.92\n"
     ]
    },
    {
     "data": {
      "application/vnd.jupyter.widget-view+json": {
       "model_id": "34ed0a605f20445282c7d0759d916b32",
       "version_major": 2,
       "version_minor": 0
      },
      "text/plain": [
       "HBox(children=(IntProgress(value=0, max=251), HTML(value='')))"
      ]
     },
     "metadata": {},
     "output_type": "display_data"
    },
    {
     "name": "stdout",
     "output_type": "stream",
     "text": [
      "\n"
     ]
    },
    {
     "data": {
      "image/png": "[encoded data removed]",
      "text/plain": [
       "<Figure size 432x288 with 1 Axes>"
      ]
     },
     "metadata": {
      "needs_background": "light"
     },
     "output_type": "display_data"
    },
    {
     "name": "stdout",
     "output_type": "stream",
     "text": [
      "0.6 0.6\n",
      "er ba\n",
      "value 199.0 197.2\n"
     ]
    },
    {
     "data": {
      "application/vnd.jupyter.widget-view+json": {
       "model_id": "545f219f3e2840c8a390b7850401d0be",
       "version_major": 2,
       "version_minor": 0
      },
      "text/plain": [
       "HBox(children=(IntProgress(value=0, max=251), HTML(value='')))"
      ]
     },
     "metadata": {},
     "output_type": "display_data"
    },
    {
     "name": "stdout",
     "output_type": "stream",
     "text": [
      "\n"
     ]
    },
    {
     "data": {
      "image/png": "[encoded data removed]",
      "text/plain": [
       "<Figure size 432x288 with 1 Axes>"
      ]
     },
     "metadata": {
      "needs_background": "light"
     },
     "output_type": "display_data"
    },
    {
     "name": "stdout",
     "output_type": "stream",
     "text": [
      "0.1 0.1\n",
      "ba er\n",
      "value 178.92 193.2\n"
     ]
    },
    {
     "data": {
      "application/vnd.jupyter.widget-view+json": {
       "model_id": "bddb168cfa1946d090497402a7cf58dc",
       "version_major": 2,
       "version_minor": 0
      },
      "text/plain": [
       "HBox(children=(IntProgress(value=0, max=251), HTML(value='')))"
      ]
     },
     "metadata": {},
     "output_type": "display_data"
    },
    {
     "name": "stdout",
     "output_type": "stream",
     "text": [
      "\n"
     ]
    },
    {
     "data": {
      "image/png": "[encoded data removed]",
      "text/plain": [
       "<Figure size 432x288 with 1 Axes>"
      ]
     },
     "metadata": {
      "needs_background": "light"
     },
     "output_type": "display_data"
    },
    {
     "name": "stdout",
     "output_type": "stream",
     "text": [
      "0.1 0.6\n",
      "ba er\n",
      "value 178.92 199.0\n"
     ]
    },
    {
     "data": {
      "application/vnd.jupyter.widget-view+json": {
       "model_id": "d7b6d40749c64028a29fec43091705e9",
       "version_major": 2,
       "version_minor": 0
      },
      "text/plain": [
       "HBox(children=(IntProgress(value=0, max=251), HTML(value='')))"
      ]
     },
     "metadata": {},
     "output_type": "display_data"
    },
    {
     "name": "stdout",
     "output_type": "stream",
     "text": [
      "\n"
     ]
    },
    {
     "data": {
      "image/png": "[encoded data removed]",
      "text/plain": [
       "<Figure size 432x288 with 1 Axes>"
      ]
     },
     "metadata": {
      "needs_background": "light"
     },
     "output_type": "display_data"
    },
    {
     "name": "stdout",
     "output_type": "stream",
     "text": [
      "0.1 0.6\n",
      "ba ba\n",
      "value 178.92 197.2\n"
     ]
    },
    {
     "data": {
      "application/vnd.jupyter.widget-view+json": {
       "model_id": "a9ff8a17eb0648fc8e8cb5c71e577893",
       "version_major": 2,
       "version_minor": 0
      },
      "text/plain": [
       "HBox(children=(IntProgress(value=0, max=251), HTML(value='')))"
      ]
     },
     "metadata": {},
     "output_type": "display_data"
    },
    {
     "name": "stdout",
     "output_type": "stream",
     "text": [
      "\n"
     ]
    },
    {
     "data": {
      "image/png": "[encoded data removed]",
      "text/plain": [
       "<Figure size 432x288 with 1 Axes>"
      ]
     },
     "metadata": {
      "needs_background": "light"
     },
     "output_type": "display_data"
    },
    {
     "name": "stdout",
     "output_type": "stream",
     "text": [
      "0.6 0.1\n",
      "ba er\n",
      "value 197.2 193.2\n"
     ]
    },
    {
     "data": {
      "application/vnd.jupyter.widget-view+json": {
       "model_id": "d1e947bfe90b498b8449f8d25f2f3145",
       "version_major": 2,
       "version_minor": 0
      },
      "text/plain": [
       "HBox(children=(IntProgress(value=0, max=251), HTML(value='')))"
      ]
     },
     "metadata": {},
     "output_type": "display_data"
    }
   ],
   "source": [
    "import os\n",
    "from pathlib import Path\n",
    "import matplotlib.pyplot as plt\n",
    "graph_size_list = [200]\n",
    "graph_type_list = ['er' , 'ba']\n",
    "density_list = [0.1,0.6]\n",
    "\n",
    "parameter_list = list(itertools.product(graph_size_list , graph_type_list ,density_list))\n",
    "N = len(parameter_list)\n",
    "ct = 0\n",
    "\n",
    "directory_name = 'n{}_{}_{}_density'.format(graph_size_list[0] , graph_type_list[0],graph_type_list[1])\n",
    "\n",
    "#Path(directory_name).mkdir(parents=True, exist_ok=True)\n",
    "\n",
    "\n",
    "for i in range(N):\n",
    "    for j in range(N):\n",
    "        if i == j:\n",
    "            continue\n",
    "            \n",
    "        gs = parameter_list[i][0]\n",
    "        pa = parameter_list[i]\n",
    "        pb = parameter_list[j]\n",
    "        a , b = test_with_para(gs , pa[1],pa[2] , pb[1],pb[2])\n",
    "        plt.plot(a)\n",
    "        plt.plot(b)\n",
    "        plt.title('train {} {} test {} {}'.format(pa[1],pa[2],pb[1],pb[2]))\n",
    "        plt.show()\n",
    "        #pickle_save([a,b],'{}/train_{}_{}_test_{}_{}.pkl'.format(directory_name,pa[1],pa[2],pb[1],pb[2]))\n",
    "        "
   ]
  },
  {
   "cell_type": "code",
   "execution_count": 151,
   "metadata": {
    "scrolled": true
   },
   "outputs": [
    {
     "name": "stdout",
     "output_type": "stream",
     "text": [
      "density 0.1486868686868687 0.058787878787878785\n",
      "value 92.04 92.52\n"
     ]
    },
    {
     "data": {
      "application/vnd.jupyter.widget-view+json": {
       "model_id": "cfea41fcaaa84f3e88a8c3dd7be6d288",
       "version_major": 2,
       "version_minor": 0
      },
      "text/plain": [
       "HBox(children=(IntProgress(value=0, max=201), HTML(value='')))"
      ]
     },
     "metadata": {},
     "output_type": "display_data"
    },
    {
     "name": "stderr",
     "output_type": "stream",
     "text": [
      "C:\\Users\\Nacujachu\\Anaconda3\\lib\\site-packages\\ipykernel_launcher.py:24: FutureWarning: Using a non-tuple sequence for multidimensional indexing is deprecated; use `arr[tuple(seq)]` instead of `arr[seq]`. In the future this will be interpreted as an array index, `arr[np.array(seq)]`, which will result either in an error or a different result.\n"
     ]
    },
    {
     "name": "stdout",
     "output_type": "stream",
     "text": [
      "0.28523932762063864 0.8180554911158628\n",
      "2.4440287819506827 0.6809723136230937\n",
      "5.556876456904769 0.5680449344784162\n",
      "9.499922545269829 0.47626532651920006\n",
      "14.81366206825678 0.403139083857126\n",
      "16.268365523716486 0.34349540538927237\n",
      "22.81542570289265 0.29353532030592117\n",
      "26.09389676219209 0.2519584502868637\n",
      "27.022986620970002 0.21741269384392303\n",
      "28.385107240226144 0.1881668461020849\n",
      "20.40970973670539 0.1646245476927008\n",
      "12.26194487168373 0.14520781079470518\n",
      "6.384924007760578 0.12892215481691519\n",
      "0.8893535209238158 0.11554008791042855\n",
      "0.563941886978263 0.10434007502165932\n",
      "1.397294998743366 0.09509908619693425\n",
      "2.0018108475394736 0.08742960559012487\n",
      "1.7837958169258155 0.08113280183047217\n",
      "2.0522443152261443 0.07577646804898078\n",
      "2.4407815621456797 0.07123948574803632\n"
     ]
    }
   ],
   "source": [
    "val_1 , val_2 , reward_history = training_validation(validation_graph , validation_graph_another \n",
    "                                    ,num_validation=20 , validation_per_epoch=10 , type_train='ba',\n",
    "                                   er_p=0.15,ba_m = 8 , graph_size=graph_size)"
   ]
  },
  {
   "cell_type": "code",
   "execution_count": 65,
   "metadata": {},
   "outputs": [
    {
     "ename": "NameError",
     "evalue": "name 'val_1' is not defined",
     "output_type": "error",
     "traceback": [
      "\u001b[0;31m---------------------------------------------------------------------------\u001b[0m",
      "\u001b[0;31mNameError\u001b[0m                                 Traceback (most recent call last)",
      "\u001b[0;32m<ipython-input-65-79d2e2b19ed0>\u001b[0m in \u001b[0;36m<module>\u001b[0;34m\u001b[0m\n\u001b[1;32m      1\u001b[0m \u001b[0;32mimport\u001b[0m \u001b[0mmatplotlib\u001b[0m\u001b[0;34m.\u001b[0m\u001b[0mpyplot\u001b[0m \u001b[0;32mas\u001b[0m \u001b[0mplt\u001b[0m\u001b[0;34m\u001b[0m\u001b[0;34m\u001b[0m\u001b[0m\n\u001b[0;32m----> 2\u001b[0;31m \u001b[0mplt\u001b[0m\u001b[0;34m.\u001b[0m\u001b[0mplot\u001b[0m\u001b[0;34m(\u001b[0m\u001b[0mval_1\u001b[0m\u001b[0;34m)\u001b[0m\u001b[0;34m\u001b[0m\u001b[0;34m\u001b[0m\u001b[0m\n\u001b[0m\u001b[1;32m      3\u001b[0m \u001b[0mplt\u001b[0m\u001b[0;34m.\u001b[0m\u001b[0mplot\u001b[0m\u001b[0;34m(\u001b[0m\u001b[0mval_2\u001b[0m\u001b[0;34m)\u001b[0m\u001b[0;34m\u001b[0m\u001b[0;34m\u001b[0m\u001b[0m\n\u001b[1;32m      4\u001b[0m \u001b[0mplt\u001b[0m\u001b[0;34m.\u001b[0m\u001b[0mlegend\u001b[0m\u001b[0;34m(\u001b[0m\u001b[0;34m[\u001b[0m\u001b[0;34m'train'\u001b[0m\u001b[0;34m,\u001b[0m\u001b[0;34m'another'\u001b[0m\u001b[0;34m]\u001b[0m\u001b[0;34m)\u001b[0m\u001b[0;34m\u001b[0m\u001b[0;34m\u001b[0m\u001b[0m\n\u001b[1;32m      5\u001b[0m \u001b[0mprint\u001b[0m\u001b[0;34m(\u001b[0m\u001b[0mval_1\u001b[0m\u001b[0;34m[\u001b[0m\u001b[0;34m-\u001b[0m\u001b[0;36m1\u001b[0m\u001b[0;34m]\u001b[0m \u001b[0;34m,\u001b[0m \u001b[0mval_2\u001b[0m\u001b[0;34m[\u001b[0m\u001b[0;34m-\u001b[0m\u001b[0;36m1\u001b[0m\u001b[0;34m]\u001b[0m\u001b[0;34m)\u001b[0m\u001b[0;34m\u001b[0m\u001b[0;34m\u001b[0m\u001b[0m\n",
      "\u001b[0;31mNameError\u001b[0m: name 'val_1' is not defined"
     ]
    }
   ],
   "source": [
    "import matplotlib.pyplot as plt\n",
    "plt.plot(val_1)\n",
    "plt.plot(val_2)\n",
    "plt.legend(['train','another'])\n",
    "print(val_1[-1] , val_2[-1])"
   ]
  },
  {
   "cell_type": "code",
   "execution_count": 80,
   "metadata": {},
   "outputs": [
    {
     "data": {
      "text/plain": [
       "453295616"
      ]
     },
     "execution_count": 80,
     "metadata": {},
     "output_type": "execute_result"
    }
   ],
   "source": [
    "torch.cuda.memory_allocated(device=None)"
   ]
  },
  {
   "cell_type": "code",
   "execution_count": 202,
   "metadata": {},
   "outputs": [],
   "source": [
    "#torch.save(dqn.state_dict(), 'trained_model/MVC_ER_n{}.pkl'.format(graph_size))\n",
    "#pickle_save(validation_result , 'validation_result/MVC_ER_n{}_ER.pkl'.format(graph_size))\n",
    "#pickle_save(ba_result , 'validation_result/MVC_ER_n{}_BA.pkl'.format(graph_size))"
   ]
  },
  {
   "cell_type": "code",
   "execution_count": null,
   "metadata": {},
   "outputs": [],
   "source": []
  },
  {
   "cell_type": "code",
   "execution_count": null,
   "metadata": {},
   "outputs": [],
   "source": []
  },
  {
   "cell_type": "code",
   "execution_count": null,
   "metadata": {},
   "outputs": [],
   "source": []
  },
  {
   "cell_type": "code",
   "execution_count": null,
   "metadata": {},
   "outputs": [],
   "source": []
  },
  {
   "cell_type": "code",
   "execution_count": null,
   "metadata": {},
   "outputs": [],
   "source": []
  }
 ],
 "metadata": {
  "kernelspec": {
   "display_name": "Python 3",
   "language": "python",
   "name": "python3"
  },
  "language_info": {
   "codemirror_mode": {
    "name": "ipython",
    "version": 3
   },
   "file_extension": ".py",
   "mimetype": "text/x-python",
   "name": "python",
   "nbconvert_exporter": "python",
   "pygments_lexer": "ipython3",
   "version": "3.7.1"
  }
 },
 "nbformat": 4,
 "nbformat_minor": 2
}

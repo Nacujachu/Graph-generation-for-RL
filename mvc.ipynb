{
 "cells": [
  {
   "cell_type": "code",
   "execution_count": 50,
   "metadata": {},
   "outputs": [
    {
     "name": "stdout",
     "output_type": "stream",
     "text": [
      "The autoreload extension is already loaded. To reload it, use:\n",
      "  %reload_ext autoreload\n"
     ]
    }
   ],
   "source": [
    "%load_ext autoreload\n",
    "%autoreload 2\n",
    "from MVC_env import MVC_environement\n",
    "from DQN_network import embedding_network\n",
    "import numpy as np\n",
    "import networkx as nx\n",
    "import math\n",
    "import torch\n",
    "from tqdm import tqdm_notebook as tqdm\n",
    "import pickle\n",
    "\n",
    "def pickle_save(data,file_name):\n",
    "    with open(file_name,'wb') as f:\n",
    "        pickle.dump(data , f)\n",
    "def pickle_load(file_name):\n",
    "    with open(file_name,'rb') as f:\n",
    "        return pickle.load(f)\n",
    "\n"
   ]
  },
  {
   "cell_type": "code",
   "execution_count": 30,
   "metadata": {},
   "outputs": [],
   "source": [
    "import numpy as np\n",
    "from collections import namedtuple\n",
    "\n",
    "experience = namedtuple(\"experience\" , ['graph','Xv','action','reward','next_Xv','is_done'])\n",
    "\n",
    "class replay_buffer():\n",
    "    def __init__(self , max_size):\n",
    "        self.buffer = np.zeros(  [max_size],dtype = experience)\n",
    "        self.max_size = max_size\n",
    "        self.size = 0\n",
    "        self.idx = -1\n",
    "    def push(self , new_exp):\n",
    "        if(self.size >= self.max_size):\n",
    "            self.idx = (self.idx+1) % self.max_size\n",
    "        else:\n",
    "            self.idx = self.idx + 1\n",
    "            self.size += 1\n",
    "        \n",
    "        self.buffer[self.idx] = new_exp\n",
    "    \n",
    "    def sample(self , batch_size):\n",
    "        batch = np.random.choice(np.arange(self.size) , size = batch_size , replace=False)\n",
    "        \n",
    "        return self.buffer[[batch]]\n",
    "    \n"
   ]
  },
  {
   "cell_type": "code",
   "execution_count": null,
   "metadata": {},
   "outputs": [],
   "source": []
  },
  {
   "cell_type": "code",
   "execution_count": 3,
   "metadata": {},
   "outputs": [
    {
     "data": {
      "text/plain": [
       "194"
      ]
     },
     "execution_count": 3,
     "metadata": {},
     "output_type": "execute_result"
    }
   ],
   "source": [
    "def approximate_algo(env):\n",
    "    edge_list = env.edges[:]\n",
    "    \n",
    "    C =  set()\n",
    "    #print(len(edge_list))\n",
    "    while( len(edge_list) > 0):\n",
    "        #print(len(edge_list))\n",
    "        e = edge_list[-1]\n",
    "        u,v = e\n",
    "        C.add(u)\n",
    "        C.add(v)\n",
    "        to_remove = []\n",
    "        for ed in edge_list:\n",
    "            if (u in ed) or (v in ed):\n",
    "                to_remove.append(ed)\n",
    "        for ed in to_remove:\n",
    "            edge_list.remove(ed)\n",
    "    \n",
    "    for v in C:\n",
    "        env.take_action(v)\n",
    "    \n",
    "    return C\n",
    "    \n",
    "    \n",
    "g = nx.erdos_renyi_graph(n = 200 , p = 0.15)\n",
    "#g = nx.barabasi_albert_graph(n=100,m=10)\n",
    "env = MVC_environement(g)\n",
    "C = approximate_algo(env)\n",
    "len(C)"
   ]
  },
  {
   "cell_type": "code",
   "execution_count": 173,
   "metadata": {},
   "outputs": [],
   "source": [
    "graph_size = 50\n",
    "validation_graph = []\n",
    "for i in range(50):\n",
    "    #p = np.random.uniform(0.05,0.)\n",
    "    g = nx.erdos_renyi_graph(n = graph_size , p = 0.15)\n",
    "    #g = nx.barabasi_albert_graph()\n",
    "    validation_graph.append(g)\n",
    "validation_graph_another = []\n",
    "for i in range(50):\n",
    "    #p = np.random.uniform(0.05,0.)\n",
    "    g = nx.barabasi_albert_graph(graph_size , 12)\n",
    "    #g = nx.erdos_renyi_graph(n = graph_size , p = 0.35)\n",
    "    validation_graph_another.append(g)"
   ]
  },
  {
   "cell_type": "code",
   "execution_count": 76,
   "metadata": {},
   "outputs": [],
   "source": [
    "validation_graph_ba = []\n",
    "for i in range(50):\n",
    "    #p = np.random.uniform(0.05,0.)\n",
    "    #g = nx.erdos_renyi_graph(n = 20 , p = 0.15)\n",
    "    g = nx.barabasi_albert_graph(graph_size , 4)\n",
    "    validation_graph_ba.append(g)"
   ]
  },
  {
   "cell_type": "code",
   "execution_count": 174,
   "metadata": {},
   "outputs": [
    {
     "data": {
      "text/plain": [
       "(0.14857142857142858, 0.3722448979591837)"
      ]
     },
     "execution_count": 174,
     "metadata": {},
     "output_type": "execute_result"
    }
   ],
   "source": [
    "nx.density(validation_graph[0]),nx.density(validation_graph_another[0])"
   ]
  },
  {
   "cell_type": "code",
   "execution_count": 175,
   "metadata": {},
   "outputs": [],
   "source": [
    "res = []\n",
    "for g in validation_graph:\n",
    "    env = MVC_environement(g)\n",
    "    C = approximate_algo(env)\n",
    "    res.append(len(C))\n",
    "approx_val = sum(res)/len(res)"
   ]
  },
  {
   "cell_type": "code",
   "execution_count": 176,
   "metadata": {},
   "outputs": [
    {
     "data": {
      "text/plain": [
       "(45.32, 38.0)"
      ]
     },
     "execution_count": 176,
     "metadata": {},
     "output_type": "execute_result"
    }
   ],
   "source": [
    "res = []\n",
    "for g in validation_graph_another:\n",
    "    env = MVC_environement(g)\n",
    "    C = approximate_algo(env)\n",
    "    res.append(len(C))\n",
    "approx_val_another = sum(res)/len(res)\n",
    "approx_val,approx_val_another"
   ]
  },
  {
   "cell_type": "code",
   "execution_count": null,
   "metadata": {},
   "outputs": [],
   "source": []
  },
  {
   "cell_type": "code",
   "execution_count": 69,
   "metadata": {},
   "outputs": [],
   "source": [
    "def validation(dqn , validation_graph):\n",
    "    objective_vals = []\n",
    "    for g in validation_graph:\n",
    "        env = MVC_environement(g)\n",
    "        Xv , graph = env.reset_env()\n",
    "        graph = torch.unsqueeze(graph,  0)\n",
    "        Xv = Xv.clone()\n",
    "        Xv = Xv.cuda()\n",
    "        graph = graph.cuda()\n",
    "        done = False\n",
    "        non_selected = list(np.arange(env.num_nodes))\n",
    "        selected = []\n",
    "        while done == False:\n",
    "            Xv = Xv.cuda()\n",
    "            val = dqn(graph , Xv)[0]\n",
    "            val[selected] = -999999\n",
    "            action = int(torch.argmax(val).item())\n",
    "            Xv_next , reward , done = env.take_action(action)\n",
    "            Xv_next = Xv_next.clone()\n",
    "            non_selected.remove(action)\n",
    "            selected.append(action)\n",
    "            Xv = Xv_next\n",
    "        objective_vals.append(len(selected))\n",
    "    return sum(objective_vals)/len(objective_vals)"
   ]
  },
  {
   "cell_type": "code",
   "execution_count": null,
   "metadata": {},
   "outputs": [],
   "source": [
    "def training_validation():\n",
    "    MAX_EPISODE = 501\n",
    "    dqn = embedding_network(emb_dim=64 , T = 5).double()\n",
    "    target_net = embedding_network(emb_dim=64 , T = 5).double()\n",
    "    target_net.load_state_dict(dqn.state_dict())\n",
    "    EPS_START = 1.00\n",
    "    EPS_END = 0.05\n",
    "    EPS_DECAY = 10000\n",
    "    steps_done = 0\n",
    "    loss_func = torch.nn.MSELoss()\n",
    "    USE_CUDA = torch.cuda.is_available()\n",
    "    N_STEP = 5\n",
    "    reward_history = []\n",
    "    batch_size = 128\n",
    "    buffer = replay_buffer(10000)\n",
    "    optimizer = torch.optim.Adam(dqn.parameters(),lr=0.00004)\n",
    "    validation_result = []\n",
    "    another_result = []\n",
    "\n",
    "    if USE_CUDA:\n",
    "        dqn = dqn.cuda()\n",
    "        target_net = target_net.cuda()\n",
    "\n",
    "\n",
    "\n",
    "    for e in tqdm(range(MAX_EPISODE)):\n",
    "\n",
    "        #p = np.random.uniform(0.05,0.3)\n",
    "        p = 0.15\n",
    "        g = nx.erdos_renyi_graph(n = graph_size , p = p)\n",
    "        #g = validation_graph[e%len(validation_graph)]\n",
    "        env = MVC_environement(g)\n",
    "        Xv , graph = env.reset_env()\n",
    "        Xv = Xv.clone()\n",
    "        graph = torch.unsqueeze(graph,  0)\n",
    "        done = False\n",
    "        non_selected = list(np.arange(env.num_nodes))\n",
    "        selected = []\n",
    "\n",
    "        if USE_CUDA:\n",
    "            graph = graph.cuda()\n",
    "            Xv = Xv.cuda()\n",
    "        N = 0\n",
    "        reward_list = []\n",
    "        cur_episode_loss = []\n",
    "        while done == False:\n",
    "            eps_threshold = EPS_END + (EPS_START - EPS_END) * \\\n",
    "            math.exp(-1. * steps_done / EPS_DECAY)\n",
    "\n",
    "            if USE_CUDA:\n",
    "                Xv = Xv.cuda()\n",
    "\n",
    "            if np.random.uniform() > eps_threshold:\n",
    "                val = dqn(graph , Xv)[0]\n",
    "                #print(val)\n",
    "                #break\n",
    "                val[selected] = -99999999\n",
    "                action = int(torch.argmax(val).item())\n",
    "            else:\n",
    "                action = int(np.random.choice(non_selected))\n",
    "\n",
    "            Xv_next , reward , done = env.take_action(action)\n",
    "            Xv_next = Xv_next.clone()\n",
    "            non_selected.remove(action)\n",
    "            selected.append(action)\n",
    "            N += 1 \n",
    "            reward_list.append(reward)\n",
    "            if N >= N_STEP:\n",
    "                #eward_n = sum(reward_list)\n",
    "                reward_n = reward\n",
    "                ex = experience(graph , Xv , torch.tensor([action]) , torch.tensor([reward_n]) , Xv_next , done)\n",
    "                buffer.push(ex)\n",
    "                reward_list.pop(0)\n",
    "            Xv = Xv_next\n",
    "\n",
    "            steps_done += 1\n",
    "\n",
    "            if buffer.size >= batch_size:\n",
    "                batch = buffer.sample(batch_size)\n",
    "                batch = experience(*zip(*batch))\n",
    "                batch_graph = torch.cat(batch.graph)\n",
    "                batch_state = torch.cat(batch.Xv)\n",
    "                batch_action = torch.cat(batch.action)\n",
    "                batch_reward = torch.cat(batch.reward).double()\n",
    "                batch_next_state = torch.cat(batch.next_Xv)\n",
    "                non_final_mask = torch.tensor(tuple(map(lambda s : s is not True, batch.is_done)),dtype = torch.uint8)\n",
    "\n",
    "                non_final_graph = batch_graph[non_final_mask]\n",
    "                non_final_next_state = batch_next_state[non_final_mask]\n",
    "\n",
    "                next_state_value = torch.zeros(batch_size).detach().double()\n",
    "                if USE_CUDA:\n",
    "                    batch_graph = batch_graph.cuda()\n",
    "                    batch_state = batch_state.cuda()\n",
    "                    batch_action = batch_action.cuda()\n",
    "                    batch_reward = batch_reward.cuda()\n",
    "                    batch_next_state = batch_next_state.cuda()\n",
    "                    next_state_value = next_state_value.cuda()\n",
    "                    non_final_graph = non_final_graph.cuda()\n",
    "                    non_final_next_state = non_final_next_state.cuda()\n",
    "\n",
    "                pred_q = dqn(batch_graph , batch_state ).gather(1 , batch_action.view(-1,1)).view(-1)\n",
    "\n",
    "\n",
    "                next_state_value[non_final_mask] = target_net(non_final_graph , non_final_next_state).max(1)[0].detach()\n",
    "                expected_q = next_state_value + batch_reward\n",
    "                loss = loss_func(pred_q , expected_q)\n",
    "                optimizer.zero_grad()\n",
    "                loss.backward()\n",
    "                optimizer.step()\n",
    "                cur_episode_loss.append(loss.item())\n",
    "        if len(cur_episode_loss) and e % 10 == 0:\n",
    "            print(sum(cur_episode_loss)/len(cur_episode_loss) , eps_threshold)\n",
    "        if e > 0 and e % 5 == 0:\n",
    "            target_net.load_state_dict(dqn.state_dict())\n",
    "        if e % 50 == 0:\n",
    "            v = validation(dqn , validation_graph)\n",
    "            validation_result.append(v)\n",
    "            v = validation(dqn , validation_graph_another)\n",
    "            another_result.append(v)"
   ]
  },
  {
   "cell_type": "code",
   "execution_count": 177,
   "metadata": {
    "scrolled": true
   },
   "outputs": [
    {
     "data": {
      "application/vnd.jupyter.widget-view+json": {
       "model_id": "62597bd91036479792c20529b1e9fe50",
       "version_major": 2,
       "version_minor": 0
      },
      "text/plain": [
       "HBox(children=(IntProgress(value=0, max=501), HTML(value='')))"
      ]
     },
     "metadata": {},
     "output_type": "display_data"
    },
    {
     "name": "stderr",
     "output_type": "stream",
     "text": [
      "C:\\Users\\Nacujachu\\Anaconda3\\lib\\site-packages\\ipykernel_launcher.py:24: FutureWarning: Using a non-tuple sequence for multidimensional indexing is deprecated; use `arr[tuple(seq)]` instead of `arr[seq]`. In the future this will be interpreted as an array index, `arr[np.array(seq)]`, which will result either in an error or a different result.\n"
     ]
    },
    {
     "name": "stdout",
     "output_type": "stream",
     "text": [
      "0.0500264832410939 0.9517722417675569\n",
      "0.24775503645361563 0.9095955471341616\n",
      "0.3488218841166583 0.869145713668203\n",
      "0.5824357622466914 0.8314584524483358\n",
      "0.907805698323342 0.7953560208707949\n",
      "1.00246890372762 0.7604950528465283\n",
      "1.0060657747002695 0.7278743759711773\n",
      "0.9083701552161492 0.6968160776373286\n",
      "0.8167496193816152 0.6671190682326102\n",
      "0.41432251018133276 0.6391978199676338\n",
      "0.32445784616013884 0.6128774800174319\n",
      "0.18329658616340774 0.5877329086658514\n",
      "0.1157333470826247 0.5638657191809305\n",
      "0.10726731158024598 0.540665181898761\n",
      "0.09046567636536747 0.5188870859680393\n",
      "0.10015644734335662 0.49843421126405735\n",
      "0.10269596029061157 0.4784019903600169\n",
      "0.1037202458705601 0.4595512239964641\n",
      "0.10157229655535753 0.4411777203994085\n",
      "0.11779061744037865 0.42415194486227886\n",
      "0.1139917700912403 0.40718790383836484\n",
      "0.08917931180481291 0.3913341756300929\n",
      "0.12447484382054361 0.37611888232341095\n",
      "0.13279147960575027 0.36139493206686596\n",
      "0.1100985426557586 0.34778209214030087\n",
      "0.17012745092455203 0.3346789302211198\n",
      "0.15765684136862515 0.32190751350459\n",
      "0.20450207617750668 0.31002089276994843\n",
      "0.1711505880069151 0.2984799068682747\n",
      "0.18176948228903822 0.28733246988080835\n",
      "0.24007132021168281 0.2770027165509473\n",
      "0.23413526749261726 0.2669055455015152\n",
      "0.27579058618698055 0.2573611552950834\n",
      "0.31199828645793787 0.2481772801891759\n",
      "0.36037278446140647 0.23940015224785127\n",
      "0.41476830540223925 0.23090318245576774\n",
      "0.5198149425102363 0.2230467838114023\n",
      "0.47169282481293534 0.21541574716119505\n",
      "0.4493689476811014 0.20812122482852785\n",
      "0.5378096891879716 0.20110303945480107\n",
      "0.7431753532752043 0.1945986515924778\n",
      "0.43037956338998196 0.1881944822348265\n",
      "0.37101760537042094 0.18214000237757483\n",
      "0.16014149862595004 0.17633814270498216\n",
      "0.1385252869896677 0.1708514353977641\n",
      "0.1400840956515411 0.16555677696058868\n",
      "0.1510763621430292 0.16051618541712268\n",
      "0.11816010408501068 0.15563206643450017\n",
      "0.12615771399062953 0.15116592438559445\n",
      "0.15810597890781475 0.14670469800660582\n"
     ]
    }
   ],
   "source": [
    "MAX_EPISODE = 501\n",
    "dqn = embedding_network(emb_dim=64 , T = 5).double()\n",
    "target_net = embedding_network(emb_dim=64 , T = 5).double()\n",
    "target_net.load_state_dict(dqn.state_dict())\n",
    "EPS_START = 1.00\n",
    "EPS_END = 0.05\n",
    "EPS_DECAY = 10000\n",
    "steps_done = 0\n",
    "loss_func = torch.nn.MSELoss()\n",
    "USE_CUDA = torch.cuda.is_available()\n",
    "N_STEP = 5\n",
    "reward_history = []\n",
    "batch_size = 128\n",
    "buffer = replay_buffer(10000)\n",
    "optimizer = torch.optim.Adam(dqn.parameters(),lr=0.00004)\n",
    "validation_result = []\n",
    "another_result = []\n",
    "\n",
    "if USE_CUDA:\n",
    "    dqn = dqn.cuda()\n",
    "    target_net = target_net.cuda()\n",
    "\n",
    "\n",
    "\n",
    "for e in tqdm(range(MAX_EPISODE)):\n",
    "\n",
    "    #p = np.random.uniform(0.05,0.3)\n",
    "    p = 0.15\n",
    "    g = nx.erdos_renyi_graph(n = graph_size , p = p)\n",
    "    #g = validation_graph[e%len(validation_graph)]\n",
    "    env = MVC_environement(g)\n",
    "    Xv , graph = env.reset_env()\n",
    "    Xv = Xv.clone()\n",
    "    graph = torch.unsqueeze(graph,  0)\n",
    "    done = False\n",
    "    non_selected = list(np.arange(env.num_nodes))\n",
    "    selected = []\n",
    "    \n",
    "    if USE_CUDA:\n",
    "        graph = graph.cuda()\n",
    "        Xv = Xv.cuda()\n",
    "    N = 0\n",
    "    reward_list = []\n",
    "    cur_episode_loss = []\n",
    "    while done == False:\n",
    "        eps_threshold = EPS_END + (EPS_START - EPS_END) * \\\n",
    "        math.exp(-1. * steps_done / EPS_DECAY)\n",
    "        \n",
    "        if USE_CUDA:\n",
    "            Xv = Xv.cuda()\n",
    "        \n",
    "        if np.random.uniform() > eps_threshold:\n",
    "            val = dqn(graph , Xv)[0]\n",
    "            #print(val)\n",
    "            #break\n",
    "            val[selected] = -99999999\n",
    "            action = int(torch.argmax(val).item())\n",
    "        else:\n",
    "            action = int(np.random.choice(non_selected))\n",
    "            \n",
    "        Xv_next , reward , done = env.take_action(action)\n",
    "        Xv_next = Xv_next.clone()\n",
    "        non_selected.remove(action)\n",
    "        selected.append(action)\n",
    "        N += 1 \n",
    "        reward_list.append(reward)\n",
    "        if N >= N_STEP:\n",
    "            #eward_n = sum(reward_list)\n",
    "            reward_n = reward\n",
    "            ex = experience(graph , Xv , torch.tensor([action]) , torch.tensor([reward_n]) , Xv_next , done)\n",
    "            buffer.push(ex)\n",
    "            reward_list.pop(0)\n",
    "        Xv = Xv_next\n",
    "        \n",
    "        steps_done += 1\n",
    "        \n",
    "        if buffer.size >= batch_size:\n",
    "            batch = buffer.sample(batch_size)\n",
    "            batch = experience(*zip(*batch))\n",
    "            batch_graph = torch.cat(batch.graph)\n",
    "            batch_state = torch.cat(batch.Xv)\n",
    "            batch_action = torch.cat(batch.action)\n",
    "            batch_reward = torch.cat(batch.reward).double()\n",
    "            batch_next_state = torch.cat(batch.next_Xv)\n",
    "            non_final_mask = torch.tensor(tuple(map(lambda s : s is not True, batch.is_done)),dtype = torch.uint8)\n",
    "            \n",
    "            non_final_graph = batch_graph[non_final_mask]\n",
    "            non_final_next_state = batch_next_state[non_final_mask]\n",
    "            \n",
    "            next_state_value = torch.zeros(batch_size).detach().double()\n",
    "            if USE_CUDA:\n",
    "                batch_graph = batch_graph.cuda()\n",
    "                batch_state = batch_state.cuda()\n",
    "                batch_action = batch_action.cuda()\n",
    "                batch_reward = batch_reward.cuda()\n",
    "                batch_next_state = batch_next_state.cuda()\n",
    "                next_state_value = next_state_value.cuda()\n",
    "                non_final_graph = non_final_graph.cuda()\n",
    "                non_final_next_state = non_final_next_state.cuda()\n",
    "                \n",
    "            pred_q = dqn(batch_graph , batch_state ).gather(1 , batch_action.view(-1,1)).view(-1)\n",
    "            \n",
    "            \n",
    "            next_state_value[non_final_mask] = target_net(non_final_graph , non_final_next_state).max(1)[0].detach()\n",
    "            expected_q = next_state_value + batch_reward\n",
    "            loss = loss_func(pred_q , expected_q)\n",
    "            optimizer.zero_grad()\n",
    "            loss.backward()\n",
    "            optimizer.step()\n",
    "            cur_episode_loss.append(loss.item())\n",
    "    if len(cur_episode_loss) and e % 10 == 0:\n",
    "        print(sum(cur_episode_loss)/len(cur_episode_loss) , eps_threshold)\n",
    "    if e > 0 and e % 5 == 0:\n",
    "        target_net.load_state_dict(dqn.state_dict())\n",
    "    if e % 50 == 0:\n",
    "        v = validation(dqn , validation_graph)\n",
    "        validation_result.append(v)\n",
    "        v = validation(dqn , validation_graph_another)\n",
    "        another_result.append(v)"
   ]
  },
  {
   "cell_type": "code",
   "execution_count": null,
   "metadata": {},
   "outputs": [],
   "source": []
  },
  {
   "cell_type": "code",
   "execution_count": 22,
   "metadata": {},
   "outputs": [
    {
     "data": {
      "text/plain": [
       "tensor([ 0,  0,  0,  0,  0,  0,  0,  0,  0,  0,  0,  0,  0,  0,\n",
       "         0,  0,  0,  0,  0,  0,  1,  0,  0,  0,  0,  0,  0,  0,\n",
       "         0,  0,  0,  0,  0,  0,  0,  0,  0,  0,  0,  0,  0,  0,\n",
       "         0,  0,  0,  0,  0,  0,  0,  0,  0,  0,  0,  0,  0,  0,\n",
       "         0,  0,  0,  0,  0,  0,  0,  0], dtype=torch.uint8)"
      ]
     },
     "execution_count": 22,
     "metadata": {},
     "output_type": "execute_result"
    }
   ],
   "source": [
    "torch.tensor(tuple(map(lambda s : s is not False, batch.is_done)),dtype = torch.uint8)"
   ]
  },
  {
   "cell_type": "code",
   "execution_count": 202,
   "metadata": {},
   "outputs": [],
   "source": [
    "#torch.save(dqn.state_dict(), 'trained_model/MVC_ER_n{}.pkl'.format(graph_size))\n",
    "#pickle_save(validation_result , 'validation_result/MVC_ER_n{}_ER.pkl'.format(graph_size))\n",
    "#pickle_save(ba_result , 'validation_result/MVC_ER_n{}_BA.pkl'.format(graph_size))"
   ]
  },
  {
   "cell_type": "code",
   "execution_count": 183,
   "metadata": {},
   "outputs": [
    {
     "data": {
      "text/plain": [
       "Text(0.5,1,'Train on ER, test on ER')"
      ]
     },
     "execution_count": 183,
     "metadata": {},
     "output_type": "execute_result"
    },
    {
     "data": {
      "image/png": "[encoded data removed]",
      "text/plain": [
       "<Figure size 432x288 with 1 Axes>"
      ]
     },
     "metadata": {},
     "output_type": "display_data"
    }
   ],
   "source": [
    "import matplotlib.pyplot as plt\n",
    "vv = []\n",
    "for v in validation_result:\n",
    "    vv.append(v/approx_val)\n",
    "plt.plot(vv)\n",
    "plt.title('Train on ER, test on ER')"
   ]
  },
  {
   "cell_type": "code",
   "execution_count": 182,
   "metadata": {},
   "outputs": [
    {
     "data": {
      "text/plain": [
       "Text(0.5,1,'Train on ER, test on another')"
      ]
     },
     "execution_count": 182,
     "metadata": {},
     "output_type": "execute_result"
    },
    {
     "data": {
      "image/png": "[encoded data removed]",
      "text/plain": [
       "<Figure size 432x288 with 1 Axes>"
      ]
     },
     "metadata": {},
     "output_type": "display_data"
    }
   ],
   "source": [
    "import matplotlib.pyplot as plt\n",
    "vv_another = []\n",
    "for v in another_result:\n",
    "    vv_another.append(v/approx_val_another)\n",
    "plt.plot(vv_another)\n",
    "plt.title('Train on ER, test on another')"
   ]
  },
  {
   "cell_type": "code",
   "execution_count": null,
   "metadata": {},
   "outputs": [],
   "source": []
  },
  {
   "cell_type": "code",
   "execution_count": null,
   "metadata": {},
   "outputs": [],
   "source": []
  },
  {
   "cell_type": "code",
   "execution_count": null,
   "metadata": {},
   "outputs": [],
   "source": []
  }
 ],
 "metadata": {
  "kernelspec": {
   "display_name": "Python 3",
   "language": "python",
   "name": "python3"
  },
  "language_info": {
   "codemirror_mode": {
    "name": "ipython",
    "version": 3
   },
   "file_extension": ".py",
   "mimetype": "text/x-python",
   "name": "python",
   "nbconvert_exporter": "python",
   "pygments_lexer": "ipython3",
   "version": "3.6.5"
  }
 },
 "nbformat": 4,
 "nbformat_minor": 2
}
